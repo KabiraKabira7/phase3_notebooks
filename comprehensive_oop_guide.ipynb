{
 "cells": [
  {
   "cell_type": "markdown",
   "id": "c76fda68",
   "metadata": {},
   "source": [
    "# Comprehensive Guide to Object-Oriented Programming (OOP) in Python\n",
    "\n",
    "## 🎯 Learning Goals\n",
    "By the end of this notebook, you will understand:\n",
    "- What Object-Oriented Programming is and why it's useful\n",
    "- How to create and use classes and instances\n",
    "- Understanding `self` and instance methods\n",
    "- Object initialization with `__init__`\n",
    "- Basic inheritance concepts\n",
    "\n",
    "Let's start your journey into the world of OOP! 🚀"
   ]
  },
  {
   "cell_type": "markdown",
   "id": "8d426c5a",
   "metadata": {},
   "source": [
    "## 1. What is Object-Oriented Programming?\n",
    "\n",
    "**Object-Oriented Programming (OOP)** is a programming paradigm that organizes code by bundling related data (attributes) and behaviors (methods) into objects.\n",
    "\n",
    "Think of it like this:\n",
    "- A **class** is like a blueprint or template (e.g., a blueprint for a house)\n",
    "- An **object/instance** is the actual thing built from that blueprint (e.g., your actual house)\n",
    "\n",
    "### Why Use OOP?\n",
    "- **Organization**: Groups related code together\n",
    "- **Reusability**: Create multiple objects from the same class\n",
    "- **Maintainability**: Easier to modify and debug\n",
    "- **Real-world modeling**: Represents real-world concepts naturally"
   ]
  },
  {
   "cell_type": "markdown",
   "id": "e59bba35",
   "metadata": {},
   "source": [
    "## 1.1 Basic Class Syntax - How Classes Work\n",
    "\n",
    "Before we dive into examples, let's understand the basic syntax of how classes work in Python:\n",
    "\n",
    "### 🔧 Basic Class Structure\n",
    "```python\n",
    "class ClassName:\n",
    "    \"\"\"Optional docstring describing the class\"\"\"\n",
    "    \n",
    "    # Class variables (shared by all instances)\n",
    "    class_variable = \"shared value\"\n",
    "    \n",
    "    # Constructor method (runs when creating new objects)\n",
    "    def __init__(self, parameter1, parameter2):\n",
    "        self.instance_variable1 = parameter1  # Instance variable\n",
    "        self.instance_variable2 = parameter2  # Instance variable\n",
    "    \n",
    "    # Instance method (function that belongs to the class)\n",
    "    def method_name(self, parameter):\n",
    "        return f\"Method result using {self.instance_variable1}\"\n",
    "    \n",
    "    # Special method for string representation\n",
    "    def __str__(self):\n",
    "        return f\"ClassName with {self.instance_variable1}\"\n",
    "```\n",
    "\n",
    "### 🎯 Key Syntax Elements:\n",
    "\n",
    "1. **`class ClassName:`** - Defines a new class (note the capital letter convention)\n",
    "2. **`def __init__(self, ...):`** - Constructor that runs when creating objects\n",
    "3. **`self`** - Refers to the current instance (always first parameter in methods)\n",
    "4. **`self.variable_name`** - Creates/accesses instance variables\n",
    "5. **`def method_name(self, ...):`** - Defines methods (functions) for the class\n",
    "\n",
    "### 🏭 Creating and Using Objects:\n",
    "```python\n",
    "# Create an object (instantiate the class)\n",
    "my_object = ClassName(\"value1\", \"value2\")\n",
    "\n",
    "# Access instance variables\n",
    "print(my_object.instance_variable1)\n",
    "\n",
    "# Call methods\n",
    "result = my_object.method_name(\"some parameter\")\n",
    "\n",
    "# Print the object (uses __str__ method)\n",
    "print(my_object)\n",
    "```\n",
    "\n",
    "### 📝 Important Rules:\n",
    "- **Class names** use `PascalCase` (capitalize first letter of each word)\n",
    "- **Method names** use `snake_case` (lowercase with underscores)\n",
    "- **Always include `self`** as the first parameter in instance methods\n",
    "- **Indentation matters** - all class content must be indented\n",
    "- **`pass`** can be used as a placeholder for empty classes/methods\n",
    "\n",
    "Now let's see this in action! 👇"
   ]
  },
  {
   "cell_type": "markdown",
   "id": "76c0a8ab",
   "metadata": {},
   "source": [
    "## 2. Putting Class Syntax into Practice\n",
    "\n",
    "Now let's apply what we learned about class syntax! We'll start with the simplest possible class:"
   ]
  },
  {
   "cell_type": "code",
   "execution_count": 18,
   "id": "eec0a1e0",
   "metadata": {},
   "outputs": [
    {
     "name": "stdout",
     "output_type": "stream",
     "text": [
      "My dog object: <__main__.Dog object at 0x000001537FAFC740>\n",
      "Type of my_dog: <class '__main__.Dog'>\n"
     ]
    }
   ],
   "source": [
    "# Define a simple class\n",
    "class Dog:\n",
    "    pass  # pass means \"do nothing for now\"\n",
    "\n",
    "# Create an instance (object) of the Dog class\n",
    "my_dog = Dog()\n",
    "print(f\"My dog object: {my_dog}\")\n",
    "print(f\"Type of my_dog: {type(my_dog)}\")"
   ]
  },
  {
   "cell_type": "markdown",
   "id": "d7da7838",
   "metadata": {},
   "source": [
    "### 🔍 Understanding the Output\n",
    "\n",
    "Let's break down what this output means:\n",
    "\n",
    "**Line 1: `My dog object: <__main__.Dog object at 0x000001537FAFC740>`**\n",
    "- `<__main__.Dog object` - This tells us we have an object of the `Dog` class from the main module\n",
    "- `at 0x000001537FAFC740` - This is the **memory address** where Python stores this object\n",
    "- The hexadecimal number (0x...) is like a unique \"house address\" in your computer's memory\n",
    "- **Every object gets a different memory address**, even if they're the same type\n",
    "\n",
    "**Line 2: `Type of my_dog: <class '__main__.Dog'>`**\n",
    "- This confirms that `my_dog` is indeed an instance of the `Dog` class\n",
    "- `__main__` refers to the current script/notebook we're running in\n",
    "- This is different from built-in types like `<class 'int'>` or `<class 'str'>`\n",
    "\n",
    "### 💡 Key Points:\n",
    "- **Objects are stored in memory** - each gets a unique address\n",
    "- **Memory addresses change** every time you run the code\n",
    "- **Without custom methods**, Python shows the default representation\n",
    "- This is why we'll learn about the `__str__` method later to make objects display more nicely!"
   ]
  },
  {
   "cell_type": "markdown",
   "id": "83cd9076",
   "metadata": {},
   "source": [
    "### Creating Multiple Instances\n",
    "Each instance is unique, even if they come from the same class:"
   ]
  },
  {
   "cell_type": "code",
   "execution_count": 19,
   "id": "9ba6cd90",
   "metadata": {},
   "outputs": [
    {
     "name": "stdout",
     "output_type": "stream",
     "text": [
      "Dog 1: <__main__.Dog object at 0x000001537FAF7F50>\n",
      "Dog 2: <__main__.Dog object at 0x000001537FAF7980>\n",
      "Dog 3: <__main__.Dog object at 0x000001537FAF5310>\n",
      "\n",
      "Are dog1 and dog2 the same? False\n",
      "Are dog1 and dog1 the same? True\n"
     ]
    }
   ],
   "source": [
    "# Create multiple dog instances\n",
    "dog1 = Dog()\n",
    "dog2 = Dog()\n",
    "dog3 = Dog()\n",
    "\n",
    "print(f\"Dog 1: {dog1}\")\n",
    "print(f\"Dog 2: {dog2}\")\n",
    "print(f\"Dog 3: {dog3}\")\n",
    "\n",
    "# Check if they are the same object\n",
    "print(f\"\\nAre dog1 and dog2 the same? {dog1 is dog2}\")\n",
    "print(f\"Are dog1 and dog1 the same? {dog1 is dog1}\")"
   ]
  },
  {
   "cell_type": "markdown",
   "id": "d9107807",
   "metadata": {},
   "source": [
    "## 3. Adding Attributes to Classes\n",
    "\n",
    "Attributes are the data that objects store. Let's add some attributes manually first:"
   ]
  },
  {
   "cell_type": "code",
   "execution_count": 20,
   "id": "3bb4982d",
   "metadata": {},
   "outputs": [
    {
     "name": "stdout",
     "output_type": "stream",
     "text": [
      "Dog name: Buddy\n",
      "Dog age: 3\n",
      "Dog breed: Golden Retriever\n"
     ]
    }
   ],
   "source": [
    "# Create a dog and add attributes\n",
    "my_dog = Dog()\n",
    "my_dog.name = \"Buddy\"\n",
    "my_dog.age = 3\n",
    "my_dog.breed = \"Golden Retriever\"\n",
    "\n",
    "print(f\"Dog name: {my_dog.name}\")\n",
    "print(f\"Dog age: {my_dog.age}\")\n",
    "print(f\"Dog breed: {my_dog.breed}\")"
   ]
  },
  {
   "cell_type": "markdown",
   "id": "a5b61a03",
   "metadata": {},
   "source": [
    "### The Problem with Manual Attribute Setting\n",
    "What happens if we try to access an attribute that doesn't exist?"
   ]
  },
  {
   "cell_type": "code",
   "execution_count": 21,
   "id": "ca45004c",
   "metadata": {},
   "outputs": [
    {
     "name": "stdout",
     "output_type": "stream",
     "text": [
      "Error: 'Dog' object has no attribute 'name'\n",
      "This happened because we didn't set the 'name' attribute!\n"
     ]
    }
   ],
   "source": [
    "# Create a new dog without setting attributes\n",
    "another_dog = Dog()\n",
    "\n",
    "# This will cause an error!\n",
    "try:\n",
    "    print(another_dog.name)\n",
    "except AttributeError as e:\n",
    "    print(f\"Error: {e}\")\n",
    "    print(\"This happened because we didn't set the 'name' attribute!\")"
   ]
  },
  {
   "cell_type": "markdown",
   "id": "73e12b22",
   "metadata": {},
   "source": [
    "## 4. The `__init__` Method - Object Initialization\n",
    "\n",
    "The `__init__` method is a special method that automatically runs when you create a new instance. It's like a constructor that sets up your object with initial values."
   ]
  },
  {
   "cell_type": "code",
   "execution_count": 22,
   "id": "b1d7a5e9",
   "metadata": {},
   "outputs": [
    {
     "name": "stdout",
     "output_type": "stream",
     "text": [
      "A new dog named Buddy has been created!\n",
      "A new dog named Luna has been created!\n",
      "\n",
      "Buddy is 3 years old and is a Golden Retriever\n",
      "Luna is 2 years old and is a Border Collie\n"
     ]
    }
   ],
   "source": [
    "class Dog:\n",
    "    def __init__(self, name, age, breed):\n",
    "        self.name = name\n",
    "        self.age = age\n",
    "        self.breed = breed\n",
    "        print(f\"A new dog named {name} has been created!\")\n",
    "\n",
    "# Now we MUST provide the required information when creating a dog\n",
    "buddy = Dog(\"Buddy\", 3, \"Golden Retriever\")\n",
    "luna = Dog(\"Luna\", 2, \"Border Collie\")\n",
    "\n",
    "print(f\"\\n{buddy.name} is {buddy.age} years old and is a {buddy.breed}\")\n",
    "print(f\"{luna.name} is {luna.age} years old and is a {luna.breed}\")"
   ]
  },
  {
   "cell_type": "markdown",
   "id": "2d249dc6",
   "metadata": {},
   "source": [
    "### Default Arguments in `__init__`\n",
    "We can make some parameters optional by providing default values:"
   ]
  },
  {
   "cell_type": "code",
   "execution_count": 23,
   "id": "87e6960a",
   "metadata": {},
   "outputs": [
    {
     "name": "stdout",
     "output_type": "stream",
     "text": [
      "Max: 1 years old, Mixed\n",
      "Bella: 4 years old, Mixed\n",
      "Charlie: 2 years old, Labrador\n"
     ]
    }
   ],
   "source": [
    "class Dog:\n",
    "    def __init__(self, name, age=1, breed=\"Mixed\"):\n",
    "        self.name = name\n",
    "        self.age = age\n",
    "        self.breed = breed\n",
    "\n",
    "# Different ways to create dogs\n",
    "dog1 = Dog(\"Max\")  # Only name provided\n",
    "dog2 = Dog(\"Bella\", 4)  # Name and age provided\n",
    "dog3 = Dog(\"Charlie\", 2, \"Labrador\")  # All parameters provided\n",
    "\n",
    "print(f\"{dog1.name}: {dog1.age} years old, {dog1.breed}\")\n",
    "print(f\"{dog2.name}: {dog2.age} years old, {dog2.breed}\")\n",
    "print(f\"{dog3.name}: {dog3.age} years old, {dog3.breed}\")"
   ]
  },
  {
   "cell_type": "markdown",
   "id": "17e5a254",
   "metadata": {},
   "source": [
    "## 5. Understanding `self`\n",
    "\n",
    "`self` is a reference to the current instance of the class. It's how methods know which specific object they're working with.\n",
    "\n",
    "Think of `self` as \"myself\" - it's how the object refers to itself."
   ]
  },
  {
   "cell_type": "code",
   "execution_count": 24,
   "id": "22b58664",
   "metadata": {},
   "outputs": [
    {
     "name": "stdout",
     "output_type": "stream",
     "text": [
      "buddy object: <__main__.Dog object at 0x000001537FAF7DA0>\n",
      "who_am_i() returns: <__main__.Dog object at 0x000001537FAF7DA0>\n",
      "Are they the same? True\n",
      "\n",
      "I am Buddy and I am 3 years old\n"
     ]
    }
   ],
   "source": [
    "class Dog:\n",
    "    def __init__(self, name, age):\n",
    "        self.name = name\n",
    "        self.age = age\n",
    "    \n",
    "    def who_am_i(self):\n",
    "        return self  # Returns the object itself\n",
    "    \n",
    "    def get_info(self):\n",
    "        return f\"I am {self.name} and I am {self.age} years old\"\n",
    "\n",
    "# Create a dog\n",
    "buddy = Dog(\"Buddy\", 3)\n",
    "\n",
    "# Check what self refers to\n",
    "print(f\"buddy object: {buddy}\")\n",
    "print(f\"who_am_i() returns: {buddy.who_am_i()}\")\n",
    "print(f\"Are they the same? {buddy is buddy.who_am_i()}\")\n",
    "\n",
    "print(f\"\\n{buddy.get_info()}\")"
   ]
  },
  {
   "cell_type": "markdown",
   "id": "906db6d1",
   "metadata": {},
   "source": [
    "## 6. Instance Methods - Adding Behavior\n",
    "\n",
    "Instance methods are functions that belong to objects. They define what the object can do."
   ]
  },
  {
   "cell_type": "code",
   "execution_count": 25,
   "id": "5ac7a7b0",
   "metadata": {},
   "outputs": [
    {
     "name": "stdout",
     "output_type": "stream",
     "text": [
      "Hi! I'm Buddy, a 3-year-old Golden Retriever!\n",
      "Buddy says: Woof! Woof!\n",
      "Buddy is playing! Energy: 80\n",
      "Buddy is playing! Energy: 60\n",
      "Buddy is playing! Energy: 40\n",
      "Buddy is playing! Energy: 20\n",
      "Buddy is too tired to play!\n",
      "Buddy had a good nap! Energy restored!\n",
      "Buddy is playing! Energy: 80\n"
     ]
    }
   ],
   "source": [
    "class Dog:\n",
    "    def __init__(self, name, age, breed):\n",
    "        self.name = name\n",
    "        self.age = age\n",
    "        self.breed = breed\n",
    "        self.energy = 100  # Dogs start with full energy\n",
    "    \n",
    "    def bark(self):\n",
    "        return f\"{self.name} says: Woof! Woof!\"\n",
    "    \n",
    "    def play(self):\n",
    "        if self.energy > 20:\n",
    "            self.energy -= 20\n",
    "            return f\"{self.name} is playing! Energy: {self.energy}\"\n",
    "        else:\n",
    "            return f\"{self.name} is too tired to play!\"\n",
    "    \n",
    "    def sleep(self):\n",
    "        self.energy = 100\n",
    "        return f\"{self.name} had a good nap! Energy restored!\"\n",
    "    \n",
    "    def introduce(self):\n",
    "        return f\"Hi! I'm {self.name}, a {self.age}-year-old {self.breed}!\"\n",
    "\n",
    "# Create a dog and test the methods\n",
    "buddy = Dog(\"Buddy\", 3, \"Golden Retriever\")\n",
    "\n",
    "print(buddy.introduce())\n",
    "print(buddy.bark())\n",
    "print(buddy.play())\n",
    "print(buddy.play())\n",
    "print(buddy.play())\n",
    "print(buddy.play())\n",
    "print(buddy.play())  # Should be tired now\n",
    "print(buddy.sleep())\n",
    "print(buddy.play())  # Should work again"
   ]
  },
  {
   "cell_type": "markdown",
   "id": "17ff9116",
   "metadata": {},
   "source": [
    "### Methods with Parameters\n",
    "Methods can also accept additional parameters:"
   ]
  },
  {
   "cell_type": "code",
   "execution_count": 26,
   "id": "3e335e33",
   "metadata": {},
   "outputs": [
    {
     "name": "stdout",
     "output_type": "stream",
     "text": [
      "Buddy doesn't know any tricks yet.\n",
      "Buddy learned how to sit!\n",
      "Buddy learned how to roll over!\n",
      "Buddy learned how to play dead!\n",
      "Buddy knows: sit, roll over, play dead\n",
      "Buddy performs: sit! 🎉\n",
      "Buddy doesn't know how to jump yet.\n"
     ]
    }
   ],
   "source": [
    "class Dog:\n",
    "    def __init__(self, name):\n",
    "        self.name = name\n",
    "        self.tricks = []  # List to store tricks\n",
    "    \n",
    "    def learn_trick(self, trick):\n",
    "        self.tricks.append(trick)\n",
    "        return f\"{self.name} learned how to {trick}!\"\n",
    "    \n",
    "    def perform_trick(self, trick):\n",
    "        if trick in self.tricks:\n",
    "            return f\"{self.name} performs: {trick}! 🎉\"\n",
    "        else:\n",
    "            return f\"{self.name} doesn't know how to {trick} yet.\"\n",
    "    \n",
    "    def show_tricks(self):\n",
    "        if self.tricks:\n",
    "            return f\"{self.name} knows: {', '.join(self.tricks)}\"\n",
    "        else:\n",
    "            return f\"{self.name} doesn't know any tricks yet.\"\n",
    "\n",
    "# Test the new methods\n",
    "buddy = Dog(\"Buddy\")\n",
    "\n",
    "print(buddy.show_tricks())\n",
    "print(buddy.learn_trick(\"sit\"))\n",
    "print(buddy.learn_trick(\"roll over\"))\n",
    "print(buddy.learn_trick(\"play dead\"))\n",
    "print(buddy.show_tricks())\n",
    "print(buddy.perform_trick(\"sit\"))\n",
    "print(buddy.perform_trick(\"jump\"))"
   ]
  },
  {
   "cell_type": "markdown",
   "id": "ec3ac205",
   "metadata": {},
   "source": [
    "## 7. Calling Methods from Other Methods\n",
    "\n",
    "Methods can call other methods within the same class using `self`:"
   ]
  },
  {
   "cell_type": "code",
   "execution_count": 27,
   "id": "d28bfd42",
   "metadata": {},
   "outputs": [
    {
     "name": "stdout",
     "output_type": "stream",
     "text": [
      "Starting Buddy's daily routine:\n",
      "Buddy is eating. Hunger level: 20\n",
      "Buddy played fetch! Happiness: 70, Hunger: 30\n",
      "Daily routine complete!\n",
      "\n"
     ]
    }
   ],
   "source": [
    "class Dog:\n",
    "    def __init__(self, name, age):\n",
    "        self.name = name\n",
    "        self.age = age\n",
    "        self.hunger = 50\n",
    "        self.happiness = 50\n",
    "    \n",
    "    def eat(self):\n",
    "        self.hunger = max(0, self.hunger - 30)\n",
    "        print(f\"{self.name} is eating. Hunger level: {self.hunger}\")\n",
    "    \n",
    "    def play_fetch(self):\n",
    "        self.happiness = min(100, self.happiness + 20)\n",
    "        self.hunger = min(100, self.hunger + 10)\n",
    "        print(f\"{self.name} played fetch! Happiness: {self.happiness}, Hunger: {self.hunger}\")\n",
    "    \n",
    "    def daily_routine(self):\n",
    "        print(f\"Starting {self.name}'s daily routine:\")\n",
    "        self.eat()  # Call the eat method\n",
    "        self.play_fetch()  # Call the play_fetch method\n",
    "        if self.hunger > 70:\n",
    "            print(f\"{self.name} is still hungry, giving more food...\")\n",
    "            self.eat()  # Call eat again if still hungry\n",
    "        print(f\"Daily routine complete!\\n\")\n",
    "\n",
    "# Test the daily routine\n",
    "buddy = Dog(\"Buddy\", 3)\n",
    "buddy.daily_routine()"
   ]
  },
  {
   "cell_type": "markdown",
   "id": "c1473743",
   "metadata": {},
   "source": [
    "## 8. Class vs Instance Attributes\n",
    "\n",
    "- **Instance attributes**: Unique to each object (like name, age)\n",
    "- **Class attributes**: Shared by all objects of the class (like species)"
   ]
  },
  {
   "cell_type": "code",
   "execution_count": 28,
   "id": "df3ecb1f",
   "metadata": {},
   "outputs": [
    {
     "name": "stdout",
     "output_type": "stream",
     "text": [
      "Buddy's name: Buddy\n",
      "Luna's name: Luna\n",
      "\n",
      "Buddy's species: Canis familiaris\n",
      "Luna's species: Canis familiaris\n",
      "Max's species: Canis familiaris\n",
      "\n",
      "Total dogs created: 3\n",
      "Total dogs (via buddy): 3\n"
     ]
    }
   ],
   "source": [
    "class Dog:\n",
    "    # Class attribute - shared by all dogs\n",
    "    species = \"Canis familiaris\"\n",
    "    total_dogs = 0  # Keep track of how many dogs we've created\n",
    "    \n",
    "    def __init__(self, name, age):\n",
    "        # Instance attributes - unique to each dog\n",
    "        self.name = name\n",
    "        self.age = age\n",
    "        \n",
    "        # Increment the class attribute\n",
    "        Dog.total_dogs += 1\n",
    "    \n",
    "    def get_info(self):\n",
    "        return f\"{self.name} is a {self.species}, {self.age} years old\"\n",
    "\n",
    "# Create multiple dogs\n",
    "buddy = Dog(\"Buddy\", 3)\n",
    "luna = Dog(\"Luna\", 2)\n",
    "max_dog = Dog(\"Max\", 5)\n",
    "\n",
    "# Instance attributes are different\n",
    "print(f\"Buddy's name: {buddy.name}\")\n",
    "print(f\"Luna's name: {luna.name}\")\n",
    "\n",
    "# Class attributes are the same\n",
    "print(f\"\\nBuddy's species: {buddy.species}\")\n",
    "print(f\"Luna's species: {luna.species}\")\n",
    "print(f\"Max's species: {max_dog.species}\")\n",
    "\n",
    "# Accessing class attribute through the class\n",
    "print(f\"\\nTotal dogs created: {Dog.total_dogs}\")\n",
    "\n",
    "# We can also access through instances\n",
    "print(f\"Total dogs (via buddy): {buddy.total_dogs}\")"
   ]
  },
  {
   "cell_type": "markdown",
   "id": "303ed4bd",
   "metadata": {},
   "source": [
    "## 9. The Special `__str__` Method\n",
    "\n",
    "The `__str__` method defines how your object looks when printed:"
   ]
  },
  {
   "cell_type": "code",
   "execution_count": 29,
   "id": "7344f176",
   "metadata": {},
   "outputs": [
    {
     "name": "stdout",
     "output_type": "stream",
     "text": [
      "With __str__ method:\n",
      "Buddy the Golden Retriever (age 3)\n",
      "\n",
      "Without __str__ method:\n",
      "<__main__.BasicDog object at 0x000001537F76E060>\n"
     ]
    }
   ],
   "source": [
    "class Dog:\n",
    "    def __init__(self, name, age, breed):\n",
    "        self.name = name\n",
    "        self.age = age\n",
    "        self.breed = breed\n",
    "    \n",
    "    def __str__(self):\n",
    "        return f\"{self.name} the {self.breed} (age {self.age})\"\n",
    "    \n",
    "    def bark(self):\n",
    "        return f\"{self.name} says: Woof!\"\n",
    "\n",
    "# Without __str__, printing shows memory address\n",
    "class BasicDog:\n",
    "    def __init__(self, name):\n",
    "        self.name = name\n",
    "\n",
    "# Compare the output\n",
    "fancy_dog = Dog(\"Buddy\", 3, \"Golden Retriever\")\n",
    "basic_dog = BasicDog(\"Rex\")\n",
    "\n",
    "print(\"With __str__ method:\")\n",
    "print(fancy_dog)\n",
    "\n",
    "print(\"\\nWithout __str__ method:\")\n",
    "print(basic_dog)"
   ]
  },
  {
   "cell_type": "markdown",
   "id": "3b484e5e",
   "metadata": {},
   "source": [
    "## 10. A Real-World Example: Person Class\n",
    "\n",
    "Let's create a more complex example that combines everything we've learned:"
   ]
  },
  {
   "cell_type": "code",
   "execution_count": 30,
   "id": "481c2157",
   "metadata": {},
   "outputs": [
    {
     "name": "stdout",
     "output_type": "stream",
     "text": [
      "Hi! I'm Alice. I'm 25 years old and I work as a Software Developer.\n",
      "Hi! I'm Bob. I'm 30 years old and I work as a Teacher.\n",
      "Hi! I'm Charlie. I'm 22 years old and I work as a Unemployed.\n",
      "\n",
      "--- Making friends ---\n",
      "Alice is now friends with Bob!\n",
      "Alice is now friends with Charlie!\n",
      "Alice is already friends with Bob.\n",
      "Alice's friends: Bob, Charlie\n",
      "\n",
      "--- Working and resting ---\n",
      "Alice worked for 5 hours. Energy: 50\n",
      "Alice is too tired to work 6 hours!\n",
      "Alice had a good rest. Energy restored!\n",
      "Alice worked for 3 hours. Energy: 70\n",
      "\n",
      "--- Birthday celebration ---\n",
      "🎉 Happy Birthday Charlie! You are now 23 years old!\n",
      "Charlie (23 years old, Unemployed)\n"
     ]
    }
   ],
   "source": [
    "class Person:\n",
    "    def __init__(self, name, age, job=\"Unemployed\"):\n",
    "        self.name = name\n",
    "        self.age = age\n",
    "        self.job = job\n",
    "        self.friends = []\n",
    "        self.energy = 100\n",
    "    \n",
    "    def __str__(self):\n",
    "        return f\"{self.name} ({self.age} years old, {self.job})\"\n",
    "    \n",
    "    def introduce(self):\n",
    "        return f\"Hi! I'm {self.name}. I'm {self.age} years old and I work as a {self.job}.\"\n",
    "    \n",
    "    def add_friend(self, friend_name):\n",
    "        if friend_name not in self.friends:\n",
    "            self.friends.append(friend_name)\n",
    "            return f\"{self.name} is now friends with {friend_name}!\"\n",
    "        else:\n",
    "            return f\"{self.name} is already friends with {friend_name}.\"\n",
    "    \n",
    "    def work(self, hours):\n",
    "        if self.job == \"Unemployed\":\n",
    "            return f\"{self.name} is unemployed and can't work.\"\n",
    "        \n",
    "        energy_cost = hours * 10\n",
    "        if self.energy >= energy_cost:\n",
    "            self.energy -= energy_cost\n",
    "            return f\"{self.name} worked for {hours} hours. Energy: {self.energy}\"\n",
    "        else:\n",
    "            return f\"{self.name} is too tired to work {hours} hours!\"\n",
    "    \n",
    "    def rest(self):\n",
    "        self.energy = 100\n",
    "        return f\"{self.name} had a good rest. Energy restored!\"\n",
    "    \n",
    "    def celebrate_birthday(self):\n",
    "        self.age += 1\n",
    "        return f\"🎉 Happy Birthday {self.name}! You are now {self.age} years old!\"\n",
    "    \n",
    "    def show_friends(self):\n",
    "        if self.friends:\n",
    "            return f\"{self.name}'s friends: {', '.join(self.friends)}\"\n",
    "        else:\n",
    "            return f\"{self.name} doesn't have any friends yet.\"\n",
    "\n",
    "# Create some people\n",
    "alice = Person(\"Alice\", 25, \"Software Developer\")\n",
    "bob = Person(\"Bob\", 30, \"Teacher\")\n",
    "charlie = Person(\"Charlie\", 22)\n",
    "\n",
    "# Test the methods\n",
    "print(alice.introduce())\n",
    "print(bob.introduce())\n",
    "print(charlie.introduce())\n",
    "\n",
    "print(\"\\n--- Making friends ---\")\n",
    "print(alice.add_friend(\"Bob\"))\n",
    "print(alice.add_friend(\"Charlie\"))\n",
    "print(alice.add_friend(\"Bob\"))  # Try to add Bob again\n",
    "print(alice.show_friends())\n",
    "\n",
    "print(\"\\n--- Working and resting ---\")\n",
    "print(alice.work(5))\n",
    "print(alice.work(6))  # Should be too tired\n",
    "print(alice.rest())\n",
    "print(alice.work(3))  # Should work now\n",
    "\n",
    "print(\"\\n--- Birthday celebration ---\")\n",
    "print(charlie.celebrate_birthday())\n",
    "print(charlie)"
   ]
  },
  {
   "cell_type": "markdown",
   "id": "dad27beb",
   "metadata": {},
   "source": [
    "## 11. Introduction to Inheritance\n",
    "\n",
    "Inheritance allows you to create new classes based on existing ones. The new class (child) inherits all the attributes and methods from the parent class."
   ]
  },
  {
   "cell_type": "code",
   "execution_count": 31,
   "id": "0d8d6520",
   "metadata": {},
   "outputs": [
    {
     "name": "stdout",
     "output_type": "stream",
     "text": [
      "=== Inherited methods ===\n",
      "Buddy is sleeping\n",
      "Whiskers is sleeping\n",
      "\n",
      "=== Overridden methods ===\n",
      "Buddy says: Woof! Woof!\n",
      "Whiskers says: Meow!\n",
      "\n",
      "=== Class-specific methods ===\n",
      "Buddy is fetching the ball!\n",
      "Whiskers is climbing a tree!\n",
      "\n",
      "=== Inheritance check ===\n",
      "Is buddy a Dog? True\n",
      "Is buddy an Animal? True\n",
      "Is whiskers a Dog? False\n"
     ]
    }
   ],
   "source": [
    "# Parent class\n",
    "class Animal:\n",
    "    def __init__(self, name, age):\n",
    "        self.name = name\n",
    "        self.age = age\n",
    "    \n",
    "    def speak(self):\n",
    "        return f\"{self.name} makes a sound\"\n",
    "    \n",
    "    def sleep(self):\n",
    "        return f\"{self.name} is sleeping\"\n",
    "\n",
    "# Child classes that inherit from Animal\n",
    "class Dog(Animal):\n",
    "    def speak(self):  # Override the parent method\n",
    "        return f\"{self.name} says: Woof! Woof!\"\n",
    "    \n",
    "    def fetch(self):  # Add a new method specific to dogs\n",
    "        return f\"{self.name} is fetching the ball!\"\n",
    "\n",
    "class Cat(Animal):\n",
    "    def speak(self):  # Override the parent method\n",
    "        return f\"{self.name} says: Meow!\"\n",
    "    \n",
    "    def climb(self):  # Add a new method specific to cats\n",
    "        return f\"{self.name} is climbing a tree!\"\n",
    "\n",
    "# Create instances\n",
    "buddy = Dog(\"Buddy\", 3)\n",
    "whiskers = Cat(\"Whiskers\", 2)\n",
    "\n",
    "# Test inherited methods\n",
    "print(\"=== Inherited methods ===\")\n",
    "print(buddy.sleep())  # From Animal class\n",
    "print(whiskers.sleep())  # From Animal class\n",
    "\n",
    "# Test overridden methods\n",
    "print(\"\\n=== Overridden methods ===\")\n",
    "print(buddy.speak())  # Dog's version\n",
    "print(whiskers.speak())  # Cat's version\n",
    "\n",
    "# Test class-specific methods\n",
    "print(\"\\n=== Class-specific methods ===\")\n",
    "print(buddy.fetch())  # Only dogs can fetch\n",
    "print(whiskers.climb())  # Only cats can climb\n",
    "\n",
    "# Check inheritance\n",
    "print(\"\\n=== Inheritance check ===\")\n",
    "print(f\"Is buddy a Dog? {isinstance(buddy, Dog)}\")\n",
    "print(f\"Is buddy an Animal? {isinstance(buddy, Animal)}\")\n",
    "print(f\"Is whiskers a Dog? {isinstance(whiskers, Dog)}\")"
   ]
  },
  {
   "cell_type": "markdown",
   "id": "fca7c578",
   "metadata": {},
   "source": [
    "### Using `super()` to Call Parent Methods\n",
    "\n",
    "Sometimes you want to extend (not replace) a parent method:"
   ]
  },
  {
   "cell_type": "code",
   "execution_count": 32,
   "id": "5ea97c13",
   "metadata": {},
   "outputs": [
    {
     "name": "stdout",
     "output_type": "stream",
     "text": [
      "Created an animal named Buddy\n",
      "It's a Golden Retriever!\n",
      "\n",
      "Name: Buddy\n",
      "Age: 3\n",
      "Breed: Golden Retriever\n",
      "Buddy makes a sound - specifically: Woof!\n"
     ]
    }
   ],
   "source": [
    "class Animal:\n",
    "    def __init__(self, name, age):\n",
    "        self.name = name\n",
    "        self.age = age\n",
    "        print(f\"Created an animal named {name}\")\n",
    "    \n",
    "    def speak(self):\n",
    "        return f\"{self.name} makes a sound\"\n",
    "\n",
    "class Dog(Animal):\n",
    "    def __init__(self, name, age, breed):\n",
    "        super().__init__(name, age)  # Call parent's __init__\n",
    "        self.breed = breed  # Add dog-specific attribute\n",
    "        print(f\"It's a {breed}!\")\n",
    "    \n",
    "    def speak(self):\n",
    "        # Call parent method and extend it\n",
    "        parent_sound = super().speak()\n",
    "        return f\"{parent_sound} - specifically: Woof!\"\n",
    "\n",
    "# Create a dog\n",
    "buddy = Dog(\"Buddy\", 3, \"Golden Retriever\")\n",
    "print(f\"\\nName: {buddy.name}\")\n",
    "print(f\"Age: {buddy.age}\")\n",
    "print(f\"Breed: {buddy.breed}\")\n",
    "print(buddy.speak())"
   ]
  },
  {
   "cell_type": "markdown",
   "id": "7376c2af",
   "metadata": {},
   "source": [
    "## 12. Practice Exercise: Build Your Own Classes! 🏗️\n",
    "\n",
    "Now it's your turn! Try to create these classes:\n",
    "\n",
    "### Exercise 1: Create a `Car` class"
   ]
  },
  {
   "cell_type": "code",
   "execution_count": 33,
   "id": "491cf4a4",
   "metadata": {},
   "outputs": [],
   "source": [
    "class Car:\n",
    "    def __init__(self, make, model, year, fuel=100):\n",
    "        # TODO: Initialize the car's attributes\n",
    "        pass\n",
    "    \n",
    "    def __str__(self):\n",
    "        # TODO: Return a nice string representation\n",
    "        pass\n",
    "    \n",
    "    def drive(self, distance):\n",
    "        # TODO: Reduce fuel based on distance (1 fuel per km)\n",
    "        # Return appropriate message\n",
    "        pass\n",
    "    \n",
    "    def refuel(self):\n",
    "        # TODO: Fill the tank back to 100\n",
    "        pass\n",
    "\n",
    "# Test your Car class here\n",
    "# my_car = Car(\"Toyota\", \"Camry\", 2020)\n",
    "# print(my_car)\n",
    "# print(my_car.drive(30))\n",
    "# print(my_car.refuel())"
   ]
  },
  {
   "cell_type": "markdown",
   "id": "b1ac769c",
   "metadata": {},
   "source": [
    "### Exercise 2: Create a `Student` class that inherits from `Person`"
   ]
  },
  {
   "cell_type": "code",
   "execution_count": 34,
   "id": "26ebb105",
   "metadata": {},
   "outputs": [],
   "source": [
    "class Student(Person):\n",
    "    def __init__(self, name, age, school, grade_level):\n",
    "        # TODO: Call parent __init__ and add student-specific attributes\n",
    "        pass\n",
    "    \n",
    "    def study(self, subject):\n",
    "        # TODO: Return a message about studying the subject\n",
    "        pass\n",
    "    \n",
    "    def take_exam(self):\n",
    "        # TODO: Return a message about taking an exam\n",
    "        pass\n",
    "\n",
    "# Test your Student class here\n",
    "# student = Student(\"John\", 16, \"High School\", 10)\n",
    "# print(student.introduce())  # Should work from Person class\n",
    "# print(student.study(\"Math\"))\n",
    "# print(student.take_exam())"
   ]
  },
  {
   "cell_type": "markdown",
   "id": "dd7ee500",
   "metadata": {},
   "source": [
    "## 13. Key Concepts Summary 📚\n",
    "\n",
    "Congratulations! You've learned the fundamentals of OOP in Python. Here's a summary:\n",
    "\n",
    "### 🔑 Key Terms\n",
    "- **Class**: A blueprint for creating objects\n",
    "- **Instance/Object**: A specific example created from a class\n",
    "- **Attribute**: Data stored in an object\n",
    "- **Method**: A function that belongs to a class\n",
    "- **`self`**: A reference to the current instance\n",
    "- **`__init__`**: Special method for initializing objects\n",
    "- **Inheritance**: Creating new classes based on existing ones\n",
    "\n",
    "### 🏗️ Class Structure\n",
    "```python\n",
    "class MyClass:\n",
    "    # Class attribute (shared by all instances)\n",
    "    class_variable = \"shared value\"\n",
    "    \n",
    "    def __init__(self, parameter):\n",
    "        # Instance attributes (unique to each instance)\n",
    "        self.instance_variable = parameter\n",
    "    \n",
    "    def method_name(self, parameter):\n",
    "        # Instance method\n",
    "        return f\"Result using {self.instance_variable}\"\n",
    "    \n",
    "    def __str__(self):\n",
    "        # String representation\n",
    "        return f\"MyClass object with {self.instance_variable}\"\n",
    "```\n",
    "\n",
    "### 🧬 Inheritance Structure\n",
    "```python\n",
    "class Parent:\n",
    "    def __init__(self, param):\n",
    "        self.param = param\n",
    "    \n",
    "    def parent_method(self):\n",
    "        return \"From parent\"\n",
    "\n",
    "class Child(Parent):\n",
    "    def __init__(self, param, child_param):\n",
    "        super().__init__(param)  # Call parent's __init__\n",
    "        self.child_param = child_param\n",
    "    \n",
    "    def parent_method(self):  # Override parent method\n",
    "        return \"From child\"\n",
    "    \n",
    "    def child_method(self):  # New method\n",
    "        return \"Child-specific method\"\n",
    "```"
   ]
  },
  {
   "cell_type": "markdown",
   "id": "d17b31c9",
   "metadata": {},
   "source": [
    "## 14. Next Steps 🚀\n",
    "\n",
    "You've mastered the basics! Here's what you can explore next:\n",
    "\n",
    "1. **Advanced OOP Concepts**:\n",
    "   - Property decorators (`@property`)\n",
    "   - Class methods and static methods\n",
    "   - Multiple inheritance\n",
    "   - Abstract classes\n",
    "\n",
    "2. **Special Methods (Dunder Methods)**:\n",
    "   - `__len__`, `__eq__`, `__lt__`, etc.\n",
    "   - Operator overloading\n",
    "\n",
    "3. **Design Patterns**:\n",
    "   - Singleton pattern\n",
    "   - Factory pattern\n",
    "   - Observer pattern\n",
    "\n",
    "4. **Real-World Applications**:\n",
    "   - Building web applications with classes\n",
    "   - Game development with OOP\n",
    "   - Data analysis with custom classes\n",
    "\n",
    "Keep practicing and building more complex classes. OOP is a powerful tool that will make your code more organized, reusable, and maintainable! 💪"
   ]
  }
 ],
 "metadata": {
  "kernelspec": {
   "display_name": "venv",
   "language": "python",
   "name": "python3"
  },
  "language_info": {
   "codemirror_mode": {
    "name": "ipython",
    "version": 3
   },
   "file_extension": ".py",
   "mimetype": "text/x-python",
   "name": "python",
   "nbconvert_exporter": "python",
   "pygments_lexer": "ipython3",
   "version": "3.12.0"
  }
 },
 "nbformat": 4,
 "nbformat_minor": 5
}
