{
 "cells": [
  {
   "cell_type": "markdown",
   "id": "9eef04e3",
   "metadata": {},
   "source": [
    "# Multiple Linear Regression: A Comprehensive Guide\n",
    "\n",
    "Welcome! This notebook will guide you through multiple linear regression, including how to handle both numeric and categorical variables, interpret coefficients, avoid common pitfalls, and evaluate your model. We'll use the Auto MPG dataset for hands-on demonstrations and draw on best practices from the attached resources."
   ]
  },
  {
   "cell_type": "markdown",
   "id": "d80480b3",
   "metadata": {},
   "source": [
    "## Table of Contents\n",
    "1. Introduction to Multiple Linear Regression\n",
    "2. Exploring the Dataset\n",
    "3. Numeric vs. Categorical Variables\n",
    "4. One-Hot Encoding and the Dummy Variable Trap\n",
    "5. Building and Interpreting a Multiple Regression Model\n",
    "6. Handling Categorical Variables with Many Categories\n",
    "7. Model Evaluation and Diagnostics\n",
    "8. Best Practices and Common Pitfalls\n",
    "9. Summary and Further Reading"
   ]
  },
  {
   "cell_type": "markdown",
   "id": "7dddae24",
   "metadata": {},
   "source": [
    "## 1. Introduction to Multiple Linear Regression\n",
    "\n",
    "Multiple linear regression is a statistical method for modeling the relationship between a target variable (dependent variable) and two or more predictor variables (independent variables). It allows us to estimate the effect of each predictor while controlling for the others. This is especially useful when real-world data is influenced by many factors at once.\n",
    "\n",
    "**Key concepts:**\n",
    "- Each coefficient represents the effect of that variable, holding others constant (\"controlling for\" other variables).\n",
    "- Categorical variables must be converted to numeric form (dummy variables) before use.\n",
    "- The choice of reference category for categorical variables affects interpretation."
   ]
  },
  {
   "cell_type": "code",
   "execution_count": 1,
   "id": "db620656",
   "metadata": {},
   "outputs": [
    {
     "data": {
      "application/vnd.microsoft.datawrangler.viewer.v0+json": {
       "columns": [
        {
         "name": "index",
         "rawType": "int64",
         "type": "integer"
        },
        {
         "name": "mpg",
         "rawType": "float64",
         "type": "float"
        },
        {
         "name": "cylinders",
         "rawType": "int64",
         "type": "integer"
        },
        {
         "name": "displacement",
         "rawType": "float64",
         "type": "float"
        },
        {
         "name": "horsepower",
         "rawType": "int64",
         "type": "integer"
        },
        {
         "name": "weight",
         "rawType": "int64",
         "type": "integer"
        },
        {
         "name": "acceleration",
         "rawType": "float64",
         "type": "float"
        },
        {
         "name": "model year",
         "rawType": "int64",
         "type": "integer"
        },
        {
         "name": "origin",
         "rawType": "int64",
         "type": "integer"
        },
        {
         "name": "car name",
         "rawType": "object",
         "type": "string"
        },
        {
         "name": "make",
         "rawType": "object",
         "type": "string"
        }
       ],
       "ref": "36ada758-7ae3-44b1-ba75-1a34db27a620",
       "rows": [
        [
         "0",
         "18.0",
         "8",
         "307.0",
         "130",
         "3504",
         "12.0",
         "70",
         "1",
         "chevrolet chevelle malibu",
         "chevrolet"
        ],
        [
         "1",
         "15.0",
         "8",
         "350.0",
         "165",
         "3693",
         "11.5",
         "70",
         "1",
         "buick skylark 320",
         "buick"
        ],
        [
         "2",
         "18.0",
         "8",
         "318.0",
         "150",
         "3436",
         "11.0",
         "70",
         "1",
         "plymouth satellite",
         "plymouth"
        ],
        [
         "3",
         "16.0",
         "8",
         "304.0",
         "150",
         "3433",
         "12.0",
         "70",
         "1",
         "amc rebel sst",
         "amc"
        ],
        [
         "4",
         "17.0",
         "8",
         "302.0",
         "140",
         "3449",
         "10.5",
         "70",
         "1",
         "ford torino",
         "ford"
        ]
       ],
       "shape": {
        "columns": 10,
        "rows": 5
       }
      },
      "text/html": [
       "<div>\n",
       "<style scoped>\n",
       "    .dataframe tbody tr th:only-of-type {\n",
       "        vertical-align: middle;\n",
       "    }\n",
       "\n",
       "    .dataframe tbody tr th {\n",
       "        vertical-align: top;\n",
       "    }\n",
       "\n",
       "    .dataframe thead th {\n",
       "        text-align: right;\n",
       "    }\n",
       "</style>\n",
       "<table border=\"1\" class=\"dataframe\">\n",
       "  <thead>\n",
       "    <tr style=\"text-align: right;\">\n",
       "      <th></th>\n",
       "      <th>mpg</th>\n",
       "      <th>cylinders</th>\n",
       "      <th>displacement</th>\n",
       "      <th>horsepower</th>\n",
       "      <th>weight</th>\n",
       "      <th>acceleration</th>\n",
       "      <th>model year</th>\n",
       "      <th>origin</th>\n",
       "      <th>car name</th>\n",
       "      <th>make</th>\n",
       "    </tr>\n",
       "  </thead>\n",
       "  <tbody>\n",
       "    <tr>\n",
       "      <th>0</th>\n",
       "      <td>18.0</td>\n",
       "      <td>8</td>\n",
       "      <td>307.0</td>\n",
       "      <td>130</td>\n",
       "      <td>3504</td>\n",
       "      <td>12.0</td>\n",
       "      <td>70</td>\n",
       "      <td>1</td>\n",
       "      <td>chevrolet chevelle malibu</td>\n",
       "      <td>chevrolet</td>\n",
       "    </tr>\n",
       "    <tr>\n",
       "      <th>1</th>\n",
       "      <td>15.0</td>\n",
       "      <td>8</td>\n",
       "      <td>350.0</td>\n",
       "      <td>165</td>\n",
       "      <td>3693</td>\n",
       "      <td>11.5</td>\n",
       "      <td>70</td>\n",
       "      <td>1</td>\n",
       "      <td>buick skylark 320</td>\n",
       "      <td>buick</td>\n",
       "    </tr>\n",
       "    <tr>\n",
       "      <th>2</th>\n",
       "      <td>18.0</td>\n",
       "      <td>8</td>\n",
       "      <td>318.0</td>\n",
       "      <td>150</td>\n",
       "      <td>3436</td>\n",
       "      <td>11.0</td>\n",
       "      <td>70</td>\n",
       "      <td>1</td>\n",
       "      <td>plymouth satellite</td>\n",
       "      <td>plymouth</td>\n",
       "    </tr>\n",
       "    <tr>\n",
       "      <th>3</th>\n",
       "      <td>16.0</td>\n",
       "      <td>8</td>\n",
       "      <td>304.0</td>\n",
       "      <td>150</td>\n",
       "      <td>3433</td>\n",
       "      <td>12.0</td>\n",
       "      <td>70</td>\n",
       "      <td>1</td>\n",
       "      <td>amc rebel sst</td>\n",
       "      <td>amc</td>\n",
       "    </tr>\n",
       "    <tr>\n",
       "      <th>4</th>\n",
       "      <td>17.0</td>\n",
       "      <td>8</td>\n",
       "      <td>302.0</td>\n",
       "      <td>140</td>\n",
       "      <td>3449</td>\n",
       "      <td>10.5</td>\n",
       "      <td>70</td>\n",
       "      <td>1</td>\n",
       "      <td>ford torino</td>\n",
       "      <td>ford</td>\n",
       "    </tr>\n",
       "  </tbody>\n",
       "</table>\n",
       "</div>"
      ],
      "text/plain": [
       "    mpg  cylinders  displacement  horsepower  weight  acceleration  \\\n",
       "0  18.0          8         307.0         130    3504          12.0   \n",
       "1  15.0          8         350.0         165    3693          11.5   \n",
       "2  18.0          8         318.0         150    3436          11.0   \n",
       "3  16.0          8         304.0         150    3433          12.0   \n",
       "4  17.0          8         302.0         140    3449          10.5   \n",
       "\n",
       "   model year  origin                   car name       make  \n",
       "0          70       1  chevrolet chevelle malibu  chevrolet  \n",
       "1          70       1          buick skylark 320      buick  \n",
       "2          70       1         plymouth satellite   plymouth  \n",
       "3          70       1              amc rebel sst        amc  \n",
       "4          70       1                ford torino       ford  "
      ]
     },
     "execution_count": 1,
     "metadata": {},
     "output_type": "execute_result"
    }
   ],
   "source": [
    "## 2. Exploring the Dataset\n",
    "\n",
    "import pandas as pd\n",
    "import matplotlib.pyplot as plt\n",
    "\n",
    "data = pd.read_csv(\"auto-mpg.csv\")\n",
    "data[\"make\"] = data[\"car name\"].str.split().apply(lambda x: x[0])\n",
    "data.head()"
   ]
  },
  {
   "cell_type": "markdown",
   "id": "256697b9",
   "metadata": {},
   "source": [
    "### Data Columns\n",
    "- **mpg**: Miles per gallon (target)\n",
    "- **cylinders, displacement, horsepower, weight, acceleration**: Numeric features\n",
    "- **model year**: Year of the car\n",
    "- **origin**: 1=USA, 2=Europe, 3=Asia (categorical, but encoded as numbers)\n",
    "- **car name**: Name of the car (string)\n",
    "- **make**: Engineered brand from car name (categorical)"
   ]
  },
  {
   "cell_type": "markdown",
   "id": "2e501b2c",
   "metadata": {},
   "source": [
    "## 3. Numeric vs. Categorical Variables\n",
    "\n",
    "**Numeric variables** (e.g., weight, model year) can be used directly in regression. **Categorical variables** (e.g., origin, make) must be converted to numbers using one-hot encoding.\n",
    "\n",
    "Let's visualize the relationship between numeric predictors and mpg."
   ]
  },
  {
   "cell_type": "code",
   "execution_count": 2,
   "id": "9c83f4a4",
   "metadata": {},
   "outputs": [
    {
     "data": {
      "image/png": "[encoded data removed]",
      "text/plain": [
       "<Figure size 1200x500 with 2 Axes>"
      ]
     },
     "metadata": {},
     "output_type": "display_data"
    }
   ],
   "source": [
    "fig, (ax1, ax2) = plt.subplots(ncols=2, figsize=(12,5))\n",
    "data.plot.scatter(x=\"weight\", y=\"mpg\", ax=ax1, title=\"Weight vs MPG\")\n",
    "data.plot.scatter(x=\"model year\", y=\"mpg\", ax=ax2, title=\"Model Year vs MPG\")\n",
    "plt.show()"
   ]
  },
  {
   "cell_type": "markdown",
   "id": "8955e550",
   "metadata": {},
   "source": [
    "### Categorical Variables: Why Not Use Numbers Directly?\n",
    "\n",
    "Some categorical variables are encoded as numbers (e.g., origin). However, the numbers do not represent a true order or distance. For example, origin=2 (Europe) is not \"twice\" origin=1 (USA). We must use one-hot encoding to create separate columns for each category."
   ]
  },
  {
   "cell_type": "markdown",
   "id": "d1d32d2d",
   "metadata": {},
   "source": [
    "## 4. One-Hot Encoding and the Dummy Variable Trap\n",
    "\n",
    "**One-hot encoding** creates a new column for each category. To avoid perfect multicollinearity (the \"dummy variable trap\"), we drop one column per categorical variable. The dropped column becomes the **reference category**.\n",
    "\n",
    "Let's one-hot encode `origin` and demonstrate the dummy variable trap."
   ]
  },
  {
   "cell_type": "code",
   "execution_count": 3,
   "id": "d68393d3",
   "metadata": {},
   "outputs": [
    {
     "data": {
      "application/vnd.microsoft.datawrangler.viewer.v0+json": {
       "columns": [
        {
         "name": "index",
         "rawType": "int64",
         "type": "integer"
        },
        {
         "name": "origin_1",
         "rawType": "int32",
         "type": "integer"
        },
        {
         "name": "origin_2",
         "rawType": "int32",
         "type": "integer"
        },
        {
         "name": "origin_3",
         "rawType": "int32",
         "type": "integer"
        },
        {
         "name": "sum",
         "rawType": "int64",
         "type": "integer"
        }
       ],
       "ref": "8f8bb1d1-98e5-4db9-940e-bed413c665d4",
       "rows": [
        [
         "0",
         "1",
         "0",
         "0",
         "1"
        ],
        [
         "1",
         "1",
         "0",
         "0",
         "1"
        ],
        [
         "2",
         "1",
         "0",
         "0",
         "1"
        ],
        [
         "3",
         "1",
         "0",
         "0",
         "1"
        ],
        [
         "4",
         "1",
         "0",
         "0",
         "1"
        ]
       ],
       "shape": {
        "columns": 4,
        "rows": 5
       }
      },
      "text/html": [
       "<div>\n",
       "<style scoped>\n",
       "    .dataframe tbody tr th:only-of-type {\n",
       "        vertical-align: middle;\n",
       "    }\n",
       "\n",
       "    .dataframe tbody tr th {\n",
       "        vertical-align: top;\n",
       "    }\n",
       "\n",
       "    .dataframe thead th {\n",
       "        text-align: right;\n",
       "    }\n",
       "</style>\n",
       "<table border=\"1\" class=\"dataframe\">\n",
       "  <thead>\n",
       "    <tr style=\"text-align: right;\">\n",
       "      <th></th>\n",
       "      <th>origin_1</th>\n",
       "      <th>origin_2</th>\n",
       "      <th>origin_3</th>\n",
       "      <th>sum</th>\n",
       "    </tr>\n",
       "  </thead>\n",
       "  <tbody>\n",
       "    <tr>\n",
       "      <th>0</th>\n",
       "      <td>1</td>\n",
       "      <td>0</td>\n",
       "      <td>0</td>\n",
       "      <td>1</td>\n",
       "    </tr>\n",
       "    <tr>\n",
       "      <th>1</th>\n",
       "      <td>1</td>\n",
       "      <td>0</td>\n",
       "      <td>0</td>\n",
       "      <td>1</td>\n",
       "    </tr>\n",
       "    <tr>\n",
       "      <th>2</th>\n",
       "      <td>1</td>\n",
       "      <td>0</td>\n",
       "      <td>0</td>\n",
       "      <td>1</td>\n",
       "    </tr>\n",
       "    <tr>\n",
       "      <th>3</th>\n",
       "      <td>1</td>\n",
       "      <td>0</td>\n",
       "      <td>0</td>\n",
       "      <td>1</td>\n",
       "    </tr>\n",
       "    <tr>\n",
       "      <th>4</th>\n",
       "      <td>1</td>\n",
       "      <td>0</td>\n",
       "      <td>0</td>\n",
       "      <td>1</td>\n",
       "    </tr>\n",
       "  </tbody>\n",
       "</table>\n",
       "</div>"
      ],
      "text/plain": [
       "   origin_1  origin_2  origin_3  sum\n",
       "0         1         0         0    1\n",
       "1         1         0         0    1\n",
       "2         1         0         0    1\n",
       "3         1         0         0    1\n",
       "4         1         0         0    1"
      ]
     },
     "execution_count": 3,
     "metadata": {},
     "output_type": "execute_result"
    }
   ],
   "source": [
    "origin_dummies = pd.get_dummies(data[\"origin\"], prefix=\"origin\", dtype=int)\n",
    "origin_dummies[\"sum\"] = origin_dummies.sum(axis=1)\n",
    "origin_dummies.head()"
   ]
  },
  {
   "cell_type": "markdown",
   "id": "c53a85a7",
   "metadata": {},
   "source": [
    "Notice that for each row, only one dummy variable is 1 and the rest are 0. The sum is always 1, so any one column can be predicted from the others. This is perfect multicollinearity.\n",
    "\n",
    "Let's drop the first column to avoid the trap:"
   ]
  },
  {
   "cell_type": "markdown",
   "id": "7bbddd30",
   "metadata": {},
   "source": [
    "When you create dummy variables for a categorical feature with three categories (like `origin` with values 1, 2, and 3), you get three new columns: `origin_1`, `origin_2`, and `origin_3`. For each row, exactly one of these columns is 1 and the others are 0. This means that if you know the values of two of the columns, you can always determine the value of the third (since the sum must be 1). This perfect predictability among the columns is called **perfect multicollinearity**.\n",
    "\n",
    "In regression, perfect multicollinearity is a problem because the model cannot uniquely estimate the effect of each category—there are infinitely many solutions that fit the data equally well. This makes the regression coefficients unstable and unreliable.\n",
    "\n",
    "**To solve this, we drop one of the dummy columns (usually the first).** The dropped category becomes the \"reference\" group, and the coefficients for the remaining dummies represent the difference relative to this reference. This ensures the predictors are independent and the regression can be estimated correctly."
   ]
  },
  {
   "cell_type": "code",
   "execution_count": 4,
   "id": "0a997272",
   "metadata": {},
   "outputs": [
    {
     "data": {
      "application/vnd.microsoft.datawrangler.viewer.v0+json": {
       "columns": [
        {
         "name": "index",
         "rawType": "int64",
         "type": "integer"
        },
        {
         "name": "mpg",
         "rawType": "float64",
         "type": "float"
        },
        {
         "name": "cylinders",
         "rawType": "int64",
         "type": "integer"
        },
        {
         "name": "displacement",
         "rawType": "float64",
         "type": "float"
        },
        {
         "name": "horsepower",
         "rawType": "int64",
         "type": "integer"
        },
        {
         "name": "weight",
         "rawType": "int64",
         "type": "integer"
        },
        {
         "name": "acceleration",
         "rawType": "float64",
         "type": "float"
        },
        {
         "name": "model year",
         "rawType": "int64",
         "type": "integer"
        },
        {
         "name": "car name",
         "rawType": "object",
         "type": "string"
        },
        {
         "name": "make",
         "rawType": "object",
         "type": "string"
        },
        {
         "name": "origin_2",
         "rawType": "int32",
         "type": "integer"
        },
        {
         "name": "origin_3",
         "rawType": "int32",
         "type": "integer"
        }
       ],
       "ref": "c28304df-cd22-4680-ad6e-473162578c5b",
       "rows": [
        [
         "0",
         "18.0",
         "8",
         "307.0",
         "130",
         "3504",
         "12.0",
         "70",
         "chevrolet chevelle malibu",
         "chevrolet",
         "0",
         "0"
        ],
        [
         "1",
         "15.0",
         "8",
         "350.0",
         "165",
         "3693",
         "11.5",
         "70",
         "buick skylark 320",
         "buick",
         "0",
         "0"
        ],
        [
         "2",
         "18.0",
         "8",
         "318.0",
         "150",
         "3436",
         "11.0",
         "70",
         "plymouth satellite",
         "plymouth",
         "0",
         "0"
        ],
        [
         "3",
         "16.0",
         "8",
         "304.0",
         "150",
         "3433",
         "12.0",
         "70",
         "amc rebel sst",
         "amc",
         "0",
         "0"
        ],
        [
         "4",
         "17.0",
         "8",
         "302.0",
         "140",
         "3449",
         "10.5",
         "70",
         "ford torino",
         "ford",
         "0",
         "0"
        ]
       ],
       "shape": {
        "columns": 11,
        "rows": 5
       }
      },
      "text/html": [
       "<div>\n",
       "<style scoped>\n",
       "    .dataframe tbody tr th:only-of-type {\n",
       "        vertical-align: middle;\n",
       "    }\n",
       "\n",
       "    .dataframe tbody tr th {\n",
       "        vertical-align: top;\n",
       "    }\n",
       "\n",
       "    .dataframe thead th {\n",
       "        text-align: right;\n",
       "    }\n",
       "</style>\n",
       "<table border=\"1\" class=\"dataframe\">\n",
       "  <thead>\n",
       "    <tr style=\"text-align: right;\">\n",
       "      <th></th>\n",
       "      <th>mpg</th>\n",
       "      <th>cylinders</th>\n",
       "      <th>displacement</th>\n",
       "      <th>horsepower</th>\n",
       "      <th>weight</th>\n",
       "      <th>acceleration</th>\n",
       "      <th>model year</th>\n",
       "      <th>car name</th>\n",
       "      <th>make</th>\n",
       "      <th>origin_2</th>\n",
       "      <th>origin_3</th>\n",
       "    </tr>\n",
       "  </thead>\n",
       "  <tbody>\n",
       "    <tr>\n",
       "      <th>0</th>\n",
       "      <td>18.0</td>\n",
       "      <td>8</td>\n",
       "      <td>307.0</td>\n",
       "      <td>130</td>\n",
       "      <td>3504</td>\n",
       "      <td>12.0</td>\n",
       "      <td>70</td>\n",
       "      <td>chevrolet chevelle malibu</td>\n",
       "      <td>chevrolet</td>\n",
       "      <td>0</td>\n",
       "      <td>0</td>\n",
       "    </tr>\n",
       "    <tr>\n",
       "      <th>1</th>\n",
       "      <td>15.0</td>\n",
       "      <td>8</td>\n",
       "      <td>350.0</td>\n",
       "      <td>165</td>\n",
       "      <td>3693</td>\n",
       "      <td>11.5</td>\n",
       "      <td>70</td>\n",
       "      <td>buick skylark 320</td>\n",
       "      <td>buick</td>\n",
       "      <td>0</td>\n",
       "      <td>0</td>\n",
       "    </tr>\n",
       "    <tr>\n",
       "      <th>2</th>\n",
       "      <td>18.0</td>\n",
       "      <td>8</td>\n",
       "      <td>318.0</td>\n",
       "      <td>150</td>\n",
       "      <td>3436</td>\n",
       "      <td>11.0</td>\n",
       "      <td>70</td>\n",
       "      <td>plymouth satellite</td>\n",
       "      <td>plymouth</td>\n",
       "      <td>0</td>\n",
       "      <td>0</td>\n",
       "    </tr>\n",
       "    <tr>\n",
       "      <th>3</th>\n",
       "      <td>16.0</td>\n",
       "      <td>8</td>\n",
       "      <td>304.0</td>\n",
       "      <td>150</td>\n",
       "      <td>3433</td>\n",
       "      <td>12.0</td>\n",
       "      <td>70</td>\n",
       "      <td>amc rebel sst</td>\n",
       "      <td>amc</td>\n",
       "      <td>0</td>\n",
       "      <td>0</td>\n",
       "    </tr>\n",
       "    <tr>\n",
       "      <th>4</th>\n",
       "      <td>17.0</td>\n",
       "      <td>8</td>\n",
       "      <td>302.0</td>\n",
       "      <td>140</td>\n",
       "      <td>3449</td>\n",
       "      <td>10.5</td>\n",
       "      <td>70</td>\n",
       "      <td>ford torino</td>\n",
       "      <td>ford</td>\n",
       "      <td>0</td>\n",
       "      <td>0</td>\n",
       "    </tr>\n",
       "  </tbody>\n",
       "</table>\n",
       "</div>"
      ],
      "text/plain": [
       "    mpg  cylinders  displacement  horsepower  weight  acceleration  \\\n",
       "0  18.0          8         307.0         130    3504          12.0   \n",
       "1  15.0          8         350.0         165    3693          11.5   \n",
       "2  18.0          8         318.0         150    3436          11.0   \n",
       "3  16.0          8         304.0         150    3433          12.0   \n",
       "4  17.0          8         302.0         140    3449          10.5   \n",
       "\n",
       "   model year                   car name       make  origin_2  origin_3  \n",
       "0          70  chevrolet chevelle malibu  chevrolet         0         0  \n",
       "1          70          buick skylark 320      buick         0         0  \n",
       "2          70         plymouth satellite   plymouth         0         0  \n",
       "3          70              amc rebel sst        amc         0         0  \n",
       "4          70                ford torino       ford         0         0  "
      ]
     },
     "execution_count": 4,
     "metadata": {},
     "output_type": "execute_result"
    }
   ],
   "source": [
    "data_encoded = pd.get_dummies(data, columns=[\"origin\"], drop_first=True, dtype=int)\n",
    "data_encoded.head()"
   ]
  },
  {
   "cell_type": "markdown",
   "id": "dd13ae0e",
   "metadata": {},
   "source": [
    "- `origin_2` = 1 if car is from Europe, 0 otherwise\n",
    "- `origin_3` = 1 if car is from Asia, 0 otherwise\n",
    "- If both are 0, the car is from the USA (reference category)\n",
    "\n",
    "**Interpretation:** All coefficients for `origin_2` and `origin_3` are relative to the reference (USA)."
   ]
  },
  {
   "cell_type": "markdown",
   "id": "6b7384f0",
   "metadata": {},
   "source": [
    "## 5. Building and Interpreting a Multiple Regression Model\n",
    "\n",
    "Let's predict `mpg` using `weight`, `model year`, and the one-hot encoded `origin` variables. We'll use the `statsmodels` library, which provides detailed output including p-values and R-squared.\n"
   ]
  },
  {
   "cell_type": "code",
   "execution_count": 5,
   "id": "265838af",
   "metadata": {},
   "outputs": [
    {
     "name": "stdout",
     "output_type": "stream",
     "text": [
      "                            OLS Regression Results                            \n",
      "==============================================================================\n",
      "Dep. Variable:                    mpg   R-squared:                       0.819\n",
      "Model:                            OLS   Adj. R-squared:                  0.817\n",
      "Method:                 Least Squares   F-statistic:                     437.9\n",
      "Date:                Sun, 29 Jun 2025   Prob (F-statistic):          3.53e-142\n",
      "Time:                        21:39:08   Log-Likelihood:                -1026.1\n",
      "No. Observations:                 392   AIC:                             2062.\n",
      "Df Residuals:                     387   BIC:                             2082.\n",
      "Df Model:                           4                                         \n",
      "Covariance Type:            nonrobust                                         \n",
      "==============================================================================\n",
      "                 coef    std err          t      P>|t|      [0.025      0.975]\n",
      "------------------------------------------------------------------------------\n",
      "const        -18.3069      4.017     -4.557      0.000     -26.205     -10.409\n",
      "weight        -0.0059      0.000    -22.647      0.000      -0.006      -0.005\n",
      "model year     0.7698      0.049     15.818      0.000       0.674       0.866\n",
      "origin_2       1.9763      0.518      3.815      0.000       0.958       2.995\n",
      "origin_3       2.2145      0.519      4.268      0.000       1.194       3.235\n",
      "==============================================================================\n",
      "Omnibus:                       32.293   Durbin-Watson:                   1.251\n",
      "Prob(Omnibus):                  0.000   Jarque-Bera (JB):               58.234\n",
      "Skew:                           0.507   Prob(JB):                     2.26e-13\n",
      "Kurtosis:                       4.593   Cond. No.                     7.39e+04\n",
      "==============================================================================\n",
      "\n",
      "Notes:\n",
      "[1] Standard Errors assume that the covariance matrix of the errors is correctly specified.\n",
      "[2] The condition number is large, 7.39e+04. This might indicate that there are\n",
      "strong multicollinearity or other numerical problems.\n"
     ]
    }
   ],
   "source": [
    "import statsmodels.api as sm\n",
    "\n",
    "X = data_encoded[[\"weight\", \"model year\", \"origin_2\", \"origin_3\"]]\n",
    "y = data_encoded[\"mpg\"]\n",
    "X = sm.add_constant(X)\n",
    "model = sm.OLS(y, X)\n",
    "results = model.fit()\n",
    "print(results.summary())"
   ]
  },
  {
   "cell_type": "markdown",
   "id": "d6a918ba",
   "metadata": {},
   "source": [
    "### Interpreting the Results\n",
    "- **const**: Predicted mpg for a car with all predictors at zero (not meaningful in practice)\n",
    "- **weight**: Each additional pound reduces mpg (negative coefficient)\n",
    "- **model year**: Newer cars tend to have higher mpg (positive coefficient)\n",
    "- **origin_2**: European cars' mpg difference compared to US cars\n",
    "- **origin_3**: Asian cars' mpg difference compared to US cars\n",
    "\n",
    "**Adjusted R-squared** is a better metric than R-squared for multiple regression, as it penalizes adding unnecessary predictors."
   ]
  },
  {
   "cell_type": "markdown",
   "id": "daf8a9bf",
   "metadata": {},
   "source": [
    "## 6. Handling Categorical Variables with Many Categories\n",
    "\n",
    "Let's use the `make` column as a predictor. First, we'll clean up typos and group rare makes as \"other\" (as in the attached resources)."
   ]
  },
  {
   "cell_type": "code",
   "execution_count": 6,
   "id": "a2a25dee",
   "metadata": {},
   "outputs": [
    {
     "data": {
      "application/vnd.microsoft.datawrangler.viewer.v0+json": {
       "columns": [
        {
         "name": "make",
         "rawType": "object",
         "type": "string"
        },
        {
         "name": "count",
         "rawType": "int64",
         "type": "integer"
        }
       ],
       "ref": "4862b029-9547-4a0d-b3b6-737b95f6b0d3",
       "rows": [
        [
         "other",
         "61"
        ],
        [
         "ford",
         "48"
        ],
        [
         "chevrolet",
         "47"
        ],
        [
         "plymouth",
         "31"
        ],
        [
         "dodge",
         "28"
        ],
        [
         "amc",
         "27"
        ],
        [
         "toyota",
         "26"
        ],
        [
         "datsun",
         "23"
        ],
        [
         "volkswagen",
         "22"
        ],
        [
         "buick",
         "17"
        ],
        [
         "pontiac",
         "16"
        ],
        [
         "honda",
         "13"
        ],
        [
         "mazda",
         "12"
        ],
        [
         "mercury",
         "11"
        ],
        [
         "oldsmobile",
         "10"
        ]
       ],
       "shape": {
        "columns": 1,
        "rows": 15
       }
      },
      "text/plain": [
       "make\n",
       "other         61\n",
       "ford          48\n",
       "chevrolet     47\n",
       "plymouth      31\n",
       "dodge         28\n",
       "amc           27\n",
       "toyota        26\n",
       "datsun        23\n",
       "volkswagen    22\n",
       "buick         17\n",
       "pontiac       16\n",
       "honda         13\n",
       "mazda         12\n",
       "mercury       11\n",
       "oldsmobile    10\n",
       "Name: count, dtype: int64"
      ]
     },
     "execution_count": 6,
     "metadata": {},
     "output_type": "execute_result"
    }
   ],
   "source": [
    "# Clean up common typos\n",
    "replacement_dict = {\n",
    "    \"chevroelt\": \"chevrolet\",\n",
    "    \"mercedes\": \"mercedes-benz\",\n",
    "    \"toyouta\": \"toyota\",\n",
    "    \"vokswagen\": \"volkswagen\",\n",
    "    \"maxda\": \"mazda\",\n",
    "    \"chevy\": \"chevrolet\",\n",
    "    \"vw\": \"volkswagen\"\n",
    "}\n",
    "data[\"make\"] = data[\"make\"].replace(replacement_dict)\n",
    "# Group rare makes as 'other'\n",
    "make_counts = data[\"make\"].value_counts()\n",
    "rare_makes = make_counts[make_counts < 10].index\n",
    "data[\"make\"] = data[\"make\"].replace(rare_makes, \"other\")\n",
    "\n",
    "data[\"make\"].value_counts()"
   ]
  },
  {
   "cell_type": "markdown",
   "id": "1e85c3c4",
   "metadata": {},
   "source": [
    "Now, let's one-hot encode `make` and build a new regression model. We'll drop the first make to set the reference category."
   ]
  },
  {
   "cell_type": "code",
   "execution_count": 7,
   "id": "928d4628",
   "metadata": {},
   "outputs": [
    {
     "name": "stdout",
     "output_type": "stream",
     "text": [
      "                            OLS Regression Results                            \n",
      "==============================================================================\n",
      "Dep. Variable:                    mpg   R-squared:                       0.831\n",
      "Model:                            OLS   Adj. R-squared:                  0.824\n",
      "Method:                 Least Squares   F-statistic:                     115.6\n",
      "Date:                Sun, 29 Jun 2025   Prob (F-statistic):          5.53e-134\n",
      "Time:                        21:39:08   Log-Likelihood:                -1012.2\n",
      "No. Observations:                 392   AIC:                             2058.\n",
      "Df Residuals:                     375   BIC:                             2126.\n",
      "Df Model:                          16                                         \n",
      "Covariance Type:            nonrobust                                         \n",
      "===================================================================================\n",
      "                      coef    std err          t      P>|t|      [0.025      0.975]\n",
      "-----------------------------------------------------------------------------------\n",
      "const             -17.5873      3.952     -4.451      0.000     -25.357      -9.817\n",
      "weight             -0.0059      0.000    -23.581      0.000      -0.006      -0.005\n",
      "model year          0.7460      0.049     15.349      0.000       0.650       0.842\n",
      "make_buick          1.0983      1.022      1.074      0.283      -0.912       3.109\n",
      "make_chevrolet      1.1703      0.794      1.474      0.141      -0.391       2.731\n",
      "make_datsun         4.6792      0.965      4.848      0.000       2.781       6.577\n",
      "make_dodge          1.6028      0.891      1.800      0.073      -0.148       3.354\n",
      "make_ford           0.5955      0.791      0.753      0.452      -0.960       2.151\n",
      "make_honda          4.4959      1.157      3.886      0.000       2.221       6.771\n",
      "make_mazda          2.1794      1.175      1.855      0.064      -0.130       4.489\n",
      "make_mercury        0.3127      1.176      0.266      0.791      -2.000       2.625\n",
      "make_oldsmobile     2.3425      1.226      1.911      0.057      -0.068       4.753\n",
      "make_other          2.4911      0.768      3.246      0.001       0.982       4.000\n",
      "make_plymouth       2.3943      0.863      2.775      0.006       0.697       4.091\n",
      "make_pontiac        2.9949      1.041      2.878      0.004       0.948       5.041\n",
      "make_toyota         2.5190      0.931      2.705      0.007       0.688       4.350\n",
      "make_volkswagen     4.3465      0.988      4.398      0.000       2.403       6.290\n",
      "==============================================================================\n",
      "Omnibus:                       31.497   Durbin-Watson:                   1.175\n",
      "Prob(Omnibus):                  0.000   Jarque-Bera (JB):               55.114\n",
      "Skew:                           0.506   Prob(JB):                     1.08e-12\n",
      "Kurtosis:                       4.534   Cond. No.                     7.42e+04\n",
      "==============================================================================\n",
      "\n",
      "Notes:\n",
      "[1] Standard Errors assume that the covariance matrix of the errors is correctly specified.\n",
      "[2] The condition number is large, 7.42e+04. This might indicate that there are\n",
      "strong multicollinearity or other numerical problems.\n"
     ]
    }
   ],
   "source": [
    "X = data[[\"weight\", \"model year\", \"make\"]]\n",
    "X = pd.get_dummies(X, columns=[\"make\"], drop_first=True, dtype=int)\n",
    "X = sm.add_constant(X)\n",
    "model = sm.OLS(y, X)\n",
    "results = model.fit()\n",
    "print(results.summary())"
   ]
  },
  {
   "cell_type": "markdown",
   "id": "a82e2806",
   "metadata": {},
   "source": [
    "#### How to Interpret the Regression Output\n",
    "\n",
    "- **Intercept (const):** This is the predicted mpg for a car with all numeric predictors at zero and belonging to the reference make (the make that was dropped during one-hot encoding). While this value is not meaningful in practice, it serves as a baseline for interpreting other coefficients.\n",
    "\n",
    "- **Numeric predictors (weight, model year):**\n",
    "  - The coefficient for `weight` shows how much mpg decreases for each additional unit of weight, holding all other variables (including make) constant. A negative value means heavier cars get lower mpg.\n",
    "  - The coefficient for `model year` shows how much mpg increases for each additional year, holding other variables constant. A positive value means newer cars tend to be more fuel efficient.\n",
    "\n",
    "- **Make dummy variables:**\n",
    "  - Each make's coefficient shows the difference in mpg between that make and the reference make, after accounting for weight and model year. For example, if `make_toyota` has a coefficient of 2.5, then (all else equal) Toyotas are predicted to get 2.5 mpg more than the reference make.\n",
    "  - Only coefficients with low p-values (typically < 0.05) are considered statistically significant. If a make's coefficient is not significant, we cannot confidently say that make differs from the reference in terms of mpg.\n",
    "\n",
    "- **Adjusted R-squared:** This tells you how well the model explains the variation in mpg, adjusting for the number of predictors. Higher values mean a better fit, but be cautious of overfitting if you include too many makes.\n",
    "\n",
    "**In summary:**\n",
    "- The regression results let you compare the fuel efficiency of different car makes, after controlling for weight and model year.\n",
    "- Significant positive coefficients indicate makes that tend to have higher mpg than the reference, while significant negative coefficients indicate lower mpg.\n",
    "- This approach helps isolate the effect of car make from other factors, giving a clearer picture of brand differences in fuel economy."
   ]
  },
  {
   "cell_type": "markdown",
   "id": "855a1128",
   "metadata": {},
   "source": [
    "### Interpreting Categorical Coefficients\n",
    "- Each make's coefficient shows the difference in mpg compared to the reference make (the one that was dropped).\n",
    "- Only coefficients with low p-values (typically < 0.05) are statistically significant.\n",
    "- If a categorical variable has many categories, most coefficients may not be significant. Consider grouping rare categories as \"other\"."
   ]
  },
  {
   "cell_type": "markdown",
   "id": "f8b372ee",
   "metadata": {},
   "source": [
    "## 7. Model Evaluation and Diagnostics\n",
    "\n",
    "Let's use **Root Mean Squared Error (RMSE)** to measure prediction error, and visualize the effect of car make on mpg."
   ]
  },
  {
   "cell_type": "markdown",
   "id": "cad3485f",
   "metadata": {},
   "source": [
    "### What is Happening in Model Evaluation (Part 7)?\n",
    "\n",
    "In this section, we are assessing how well our multiple regression model predicts the target variable (`mpg`). Here’s what each step is doing, with reference to the evaluation notebook:\n",
    "\n",
    "- **Root Mean Squared Error (RMSE):**\n",
    "  - RMSE is a common error-based metric that tells us, on average, how far off our model’s predictions are from the actual values, measured in the same units as the target (here, miles per gallon).\n",
    "  - A lower RMSE means better predictive accuracy. For example, an RMSE of 3 means that, on average, our model’s predictions are off by about 3 mpg.\n",
    "  - RMSE penalizes larger errors more than smaller ones (because errors are squared before averaging), making it sensitive to outliers.\n",
    "  - This is similar to the calculation and interpretation shown in the evaluation notebook, where both MAE (mean absolute error) and RMSE are discussed as ways to summarize model error.\n",
    "\n",
    "- **Visualizing Make Coefficients:**\n",
    "  - The bar plot shows the estimated effect of each car make on mpg, after controlling for weight and model year. Each bar represents how much higher or lower the predicted mpg is for that make compared to the reference make.\n",
    "  - This helps you quickly see which brands tend to have better or worse fuel efficiency, all else being equal.\n",
    "\n",
    "- **Why Use These Metrics?**\n",
    "  - R-squared and adjusted R-squared (discussed earlier) tell you how much of the variance in mpg is explained by the model, but they don’t tell you about the size of the errors.\n",
    "  - Error-based metrics like RMSE (and MAE, as shown in the evaluation notebook) give you a more direct sense of how accurate your predictions are in real-world terms.\n",
    "\n",
    "- **Model Diagnostics:**\n",
    "  - The checklist reminds you to look for multicollinearity (predictors that are too similar), focus on significant coefficients, and remember that all categorical effects are relative to the reference group.\n"
   ]
  },
  {
   "cell_type": "markdown",
   "id": "c7ac60de",
   "metadata": {},
   "source": [
    "#### Additional Model Evaluation Metrics\n",
    "\n",
    "Beyond RMSE, there are several other important metrics for evaluating multiple regression models, as discussed in the evaluation notebook:\n",
    "\n",
    "- **Mean Absolute Error (MAE):**\n",
    "  - MAE is the average of the absolute differences between the predicted and actual values. Like RMSE, it is measured in the same units as the target variable (mpg).\n",
    "  - MAE is less sensitive to outliers than RMSE because it does not square the errors. It gives a straightforward interpretation: \"On average, our predictions are off by this many mpg.\"\n",
    "  - Lower MAE values indicate better model performance.\n",
    "\n",
    "- **Adjusted R-Squared:**\n",
    "  - Adjusted R-squared improves on regular R-squared by penalizing the addition of unnecessary predictors. It only increases if a new predictor improves the model more than would be expected by chance.\n",
    "  - This makes it a better metric for comparing models with different numbers of predictors.\n",
    "  - You can find adjusted R-squared in the regression summary output, or calculate it manually as shown in the evaluation notebook.\n",
    "\n",
    "- **F-Statistic and F-Statistic p-value:**\n",
    "  - The F-statistic tests whether your model explains a significant amount of variance in the target variable compared to a model with no predictors.\n",
    "  - A very small p-value (typically < 0.05) means your model is statistically significant overall.\n",
    "\n",
    "- **R-Squared:**\n",
    "  - R-squared measures the proportion of variance in the target variable explained by the model. However, it always increases as you add more predictors, even if they are not useful.\n",
    "  - This is why adjusted R-squared is preferred for multiple regression.\n",
    "\n",
    "**Summary:**\n",
    "- Use a combination of metrics to evaluate your model: RMSE and MAE for average prediction error, adjusted R-squared for overall fit, and the F-statistic for statistical significance.\n",
    "- These metrics together give you a more complete picture of how well your regression model is performing and whether it is likely to generalize to new data."
   ]
  },
  {
   "cell_type": "code",
   "execution_count": 8,
   "id": "09972cf6",
   "metadata": {},
   "outputs": [
    {
     "name": "stderr",
     "output_type": "stream",
     "text": [
      "C:\\Users\\Anarchy\\AppData\\Local\\Packages\\PythonSoftwareFoundation.Python.3.11_qbz5n2kfra8p0\\LocalCache\\local-packages\\Python311\\site-packages\\sklearn\\metrics\\_regression.py:483: FutureWarning: 'squared' is deprecated in version 1.4 and will be removed in 1.6. To calculate the root mean squared error, use the function'root_mean_squared_error'.\n",
      "  warnings.warn(\n"
     ]
    },
    {
     "name": "stdout",
     "output_type": "stream",
     "text": [
      "Root Mean Squared Error (RMSE): 3.20\n"
     ]
    },
    {
     "data": {
      "image/png": "[encoded data removed]",
      "text/plain": [
       "<Figure size 800x500 with 1 Axes>"
      ]
     },
     "metadata": {},
     "output_type": "display_data"
    }
   ],
   "source": [
    "from sklearn.metrics import mean_squared_error\n",
    "rmse = mean_squared_error(y, results.predict(X), squared=False)\n",
    "print(f\"Root Mean Squared Error (RMSE): {rmse:.2f}\")\n",
    "\n",
    "# Visualize make coefficients\n",
    "coefs = results.params.filter(like=\"make_\")\n",
    "coefs.plot.barh(figsize=(8,5))\n",
    "plt.title(\"Effect of Car Make on MPG (vs. Reference Make)\")\n",
    "plt.xlabel(\"Coefficient (MPG difference)\")\n",
    "plt.show()"
   ]
  },
  {
   "cell_type": "markdown",
   "id": "0e4954e6",
   "metadata": {},
   "source": [
    "#### Explanation of the Code and Output Graph\n",
    "\n",
    "- **Root Mean Squared Error (RMSE):**\n",
    "  - The code calculates RMSE, which measures the average prediction error of the model in the same units as the target variable (mpg).\n",
    "  - For example, if RMSE is 3.2, it means that, on average, the model's predictions are off by about 3.2 miles per gallon.\n",
    "  - RMSE is useful for understanding how well the model is likely to perform on new, unseen data. Lower values indicate better predictive accuracy.\n",
    "\n",
    "- **Bar Graph of Make Coefficients:**\n",
    "  - The graph shows the estimated effect of each car make on mpg, after controlling for weight and model year.\n",
    "  - Each bar represents the coefficient for a specific make, which tells you how much higher or lower the predicted mpg is for that make compared to the reference make (the one that was dropped during one-hot encoding).\n",
    "  - Positive bars indicate makes that tend to have higher mpg than the reference, while negative bars indicate makes with lower mpg.\n",
    "  - The length of each bar shows the size of the effect, and the direction (left or right) shows whether the effect is positive or negative.\n",
    "  - This visualization helps you quickly identify which car brands are associated with better or worse fuel efficiency, all else being equal.\n",
    "\n",
    "**In summary:**\n",
    "- The RMSE gives you a sense of the model's overall prediction error.\n",
    "- The bar graph provides an intuitive way to compare the relative fuel efficiency of different car makes, after accounting for other factors in the model."
   ]
  },
  {
   "cell_type": "markdown",
   "id": "7af45ef7",
   "metadata": {},
   "source": [
    "### Model Diagnostics\n",
    "\n",
    "- **Check for multicollinearity**: Avoid including highly correlated predictors (e.g., both origin and make, if make implies origin).\n",
    "- **Interpret only significant coefficients**: Focus on predictors with p-values < 0.05.\n",
    "- **Reference category matters**: All categorical coefficients are relative to the dropped category."
   ]
  },
  {
   "cell_type": "markdown",
   "id": "e6536c11",
   "metadata": {},
   "source": [
    "## 8. Best Practices and Common Pitfalls\n",
    "\n",
    "- **Always preprocess categorical variables** (one-hot encoding, grouping rare categories)\n",
    "- **Drop one dummy variable per category** to avoid the dummy variable trap\n",
    "- **Don't drop predictors just because they're not significant**—use data understanding\n",
    "- **Adjusted R-squared** is better than R-squared for comparing models with different numbers of predictors\n",
    "- **Interpret coefficients in context**: For categorical variables, coefficients are always relative to the reference category"
   ]
  },
  {
   "cell_type": "markdown",
   "id": "bda77131",
   "metadata": {},
   "source": [
    "## 9. Summary and Further Reading\n",
    "\n",
    "- Multiple linear regression lets us model the effect of several variables at once\n",
    "- Categorical variables must be converted to numbers (one-hot encoding)\n",
    "- Always drop one dummy variable per category to avoid the dummy variable trap\n",
    "- Model evaluation metrics like RMSE and adjusted R-squared help us understand prediction accuracy\n",
    "- Data cleaning and thoughtful feature selection are crucial for meaningful results\n",
    "\n",
    "**Further Reading:**\n",
    "- [StatQuest: Multiple Regression](https://www.youtube.com/watch?v=JvS2triCgOY)\n",
    "- [pandas.get_dummies documentation](https://pandas.pydata.org/pandas-docs/stable/reference/api/pandas.get_dummies.html)\n",
    "- [Statsmodels OLS Regression](https://www.statsmodels.org/stable/regression.html)\n",
    "\n",
    "Congratulations! You now have a solid foundation in multiple linear regression, including how to handle categorical variables, interpret coefficients, and avoid common pitfalls. Try experimenting with other features or datasets to deepen your understanding."
   ]
  }
 ],
 "metadata": {
  "kernelspec": {
   "display_name": "Python 3",
   "language": "python",
   "name": "python3"
  },
  "language_info": {
   "codemirror_mode": {
    "name": "ipython",
    "version": 3
   },
   "file_extension": ".py",
   "mimetype": "text/x-python",
   "name": "python",
   "nbconvert_exporter": "python",
   "pygments_lexer": "ipython3",
   "version": "3.11.9"
  }
 },
 "nbformat": 4,
 "nbformat_minor": 5
}
