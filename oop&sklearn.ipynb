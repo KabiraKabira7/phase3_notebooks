{
 "cells": [
  {
   "cell_type": "markdown",
   "id": "a2c0dff5",
   "metadata": {},
   "source": [
    "# 🧱 1. Class – The Blueprint\n",
    "### Let's now break down the key OOP terms using a very simple bank example, so everything connects clearly.\n",
    "### A class is like a blueprint or template for creating things.\n",
    "\n",
    "### 🧠 Think of it like this: A class is the idea of a \"Bank Account\" — it describes what all bank accounts can do, but it's not an actual bank account yet."
   ]
  },
  {
   "cell_type": "code",
   "execution_count": 2,
   "id": "9cd5f076",
   "metadata": {},
   "outputs": [],
   "source": [
    "class BankAccount:\n",
    "    pass\n",
    "#This class says: “I’m going to define what a bank account is.”\n",
    "\n",
    "\n",
    "\n",
    "#🧠 Why would you use pass?\n",
    "#You use pass when you have to write some code (like a class or function), but you’re not ready to implement it yet.\n",
    "\n",
    "#Python needs something inside those blocks (like inside a class or method), and if you leave them empty, it gives an error.\n",
    "\n",
    "#So instead, you write pass to avoid the error, like saying: “I’ll come back and fill this later.”"
   ]
  },
  {
   "cell_type": "markdown",
   "id": "cc8ce27f",
   "metadata": {},
   "source": [
    "# Instance (or Object) – The Real Thing\n",
    "### An instance is a real bank account created using the blueprint.\n",
    "\n",
    "### 🧠 Think of it like: “Tim’s bank account at Equity Bank.”"
   ]
  },
  {
   "cell_type": "code",
   "execution_count": 3,
   "id": "eb8dc06b",
   "metadata": {},
   "outputs": [],
   "source": [
    "my_account = BankAccount()\n",
    "#Here, my_account is an instance of the BankAccount class — it's the real thing based on the class."
   ]
  },
  {
   "cell_type": "markdown",
   "id": "175072c3",
   "metadata": {},
   "source": [
    "# 🔑 3. Attributes – The Data/Details\n",
    "### Attributes are like characteristics or details of the object.\n",
    "\n",
    "### In our bank example, things like:\n",
    "\n",
    "### Account owner (\"Tim\")\n",
    "\n",
    "### Balance (5000)"
   ]
  },
  {
   "cell_type": "code",
   "execution_count": null,
   "id": "4cf1b11c",
   "metadata": {},
   "outputs": [
    {
     "name": "stdout",
     "output_type": "stream",
     "text": [
      "Account Owner: Tim\n",
      "Account Balance: 10000\n"
     ]
    }
   ],
   "source": [
    "#These are attributes.\n",
    "class BankAccount:\n",
    "    def __init__(self, owner, balance):\n",
    "        self.owner = owner     # attribute\n",
    "        self.balance = balance # attribute\n",
    "\n",
    "\n",
    "\n",
    "\n",
    "\n",
    "#this code may also be written like this for better understanding\n",
    "# This is a class definition\n",
    "class BankAccount:\n",
    "    def __init__(self, owner, balance):\n",
    "        self.owner = owner     # attribute to store the owner's name\n",
    "        self.balance = balance # attribute to store the account balance\n",
    "\n",
    "# This is an object (an instance of the BankAccount class)\n",
    "my_account = BankAccount(\"Tim\", 10000)\n",
    "\n",
    "# Accessing the object's attributes\n",
    "print(\"Account Owner:\", my_account.owner)     # Output: Account Owner: Tim\n",
    "print(\"Account Balance:\", my_account.balance) # Output: Account Balance: 10000\n"
   ]
  },
  {
   "cell_type": "markdown",
   "id": "048011c3",
   "metadata": {},
   "source": [
    "# 🛠️ 4. Methods – The Actions\n",
    "### Methods are functions inside a class — the things the object can do.\n",
    "\n",
    "### Examples:\n",
    "\n",
    "### deposit()\n",
    "\n",
    "### withdraw()"
   ]
  },
  {
   "cell_type": "code",
   "execution_count": 6,
   "id": "0a36bdf2",
   "metadata": {},
   "outputs": [],
   "source": [
    "def deposit(self, amount):\n",
    "    self.balance += amount\n",
    "#🧠 Think: A method is what the account does."
   ]
  },
  {
   "cell_type": "markdown",
   "id": "e0ce162c",
   "metadata": {},
   "source": [
    "## *Let have a complete code for deposit() and withdrawal()*"
   ]
  },
  {
   "cell_type": "code",
   "execution_count": 4,
   "id": "5989cc28",
   "metadata": {},
   "outputs": [
    {
     "name": "stdout",
     "output_type": "stream",
     "text": [
      "Account Owner: Tim\n",
      "Account Balance: 10000\n",
      "Deposited 2500. New balance: 12500\n",
      "Withdrew 3000. New balance: 9500\n",
      "Insufficient funds. Withdrawal cancelled.\n"
     ]
    }
   ],
   "source": [
    "# This is a class definition\n",
    "class BankAccount:\n",
    "    def __init__(self, owner, balance):\n",
    "        self.owner = owner     # attribute to store the owner's name\n",
    "        self.balance = balance # attribute to store the account balance\n",
    "\n",
    "    # Deposit method — adds money to the balance\n",
    "    def deposit(self, amount):\n",
    "        self.balance += amount\n",
    "        print(f\"Deposited {amount}. New balance: {self.balance}\")\n",
    "\n",
    "    # Withdraw method — removes money if enough is available\n",
    "    def withdraw(self, amount):\n",
    "        if amount <= self.balance:\n",
    "            self.balance -= amount\n",
    "            print(f\"Withdrew {amount}. New balance: {self.balance}\")\n",
    "        else:\n",
    "            print(\"Insufficient funds. Withdrawal cancelled.\")\n",
    "\n",
    "# Creating an object (an instance of the BankAccount class)\n",
    "my_account = BankAccount(\"Tim\", 10000)\n",
    "\n",
    "# Accessing attributes\n",
    "print(\"Account Owner:\", my_account.owner)\n",
    "print(\"Account Balance:\", my_account.balance)\n",
    "\n",
    "# Using deposit method\n",
    "my_account.deposit(2500)  # Deposit 2500\n",
    "\n",
    "# Using withdraw method — success case\n",
    "my_account.withdraw(3000) # Withdraw 3000\n",
    "\n",
    "# Using withdraw method — failure case\n",
    "my_account.withdraw(20000) # Try to withdraw more than the balance\n"
   ]
  },
  {
   "cell_type": "markdown",
   "id": "9ac197d1",
   "metadata": {},
   "source": [
    "# 🙋 5. self – Refers to this specific object\n",
    "### Inside the class, self always means: \"this particular object.\"\n",
    "\n",
    "### So when you write self.balance, it means \"this specific account's balance.\""
   ]
  },
  {
   "cell_type": "code",
   "execution_count": 7,
   "id": "540a8b33",
   "metadata": {},
   "outputs": [],
   "source": [
    "def check_balance(self):\n",
    "    print(self.balance)  # not someone else's, just this one!\n"
   ]
  },
  {
   "cell_type": "markdown",
   "id": "12d2c896",
   "metadata": {},
   "source": [
    "# 🚪 6. init – Initialization (When the object is born)\n",
    "### __init__ is a special method that runs automatically when you create an object.\n",
    "\n",
    "### It's used to set up the initial values."
   ]
  },
  {
   "cell_type": "code",
   "execution_count": 8,
   "id": "048b9d24",
   "metadata": {},
   "outputs": [],
   "source": [
    "def __init__(self, owner, balance):\n",
    "    self.owner = owner\n",
    "    self.balance = balance\n"
   ]
  },
  {
   "cell_type": "code",
   "execution_count": 9,
   "id": "45cb1983",
   "metadata": {},
   "outputs": [],
   "source": [
    "#When you do:\n",
    "my_account = BankAccount(\"Tim\", 1000)\n",
    "#It calls __init__() behind the scenes.\n"
   ]
  },
  {
   "cell_type": "markdown",
   "id": "842bea9c",
   "metadata": {},
   "source": [
    "# 🪪 7. str – Special String Method (How it appears when printed)\n",
    "### __str__ is another special method that defines how the object should look when printed."
   ]
  },
  {
   "cell_type": "code",
   "execution_count": 14,
   "id": "857df1e9",
   "metadata": {},
   "outputs": [],
   "source": [
    "def __str__(self):\n",
    "    return f\"Account Owner: {self.owner}, Balance: {self.balance}\"\n"
   ]
  },
  {
   "cell_type": "code",
   "execution_count": 15,
   "id": "4a01535a",
   "metadata": {},
   "outputs": [
    {
     "name": "stdout",
     "output_type": "stream",
     "text": [
      "<__main__.BankAccount object at 0x0000026494A8C830>\n"
     ]
    }
   ],
   "source": [
    "#Then this:\n",
    "print(my_account)\n"
   ]
  },
  {
   "cell_type": "markdown",
   "id": "b7ea619b",
   "metadata": {},
   "source": [
    "# 💡 Final Example (All in One)"
   ]
  },
  {
   "cell_type": "code",
   "execution_count": 5,
   "id": "ed5f8cd0",
   "metadata": {},
   "outputs": [
    {
     "name": "stdout",
     "output_type": "stream",
     "text": [
      "Deposited 500. New balance: 1500\n",
      "Account Owner: Tim, Balance: 1500\n"
     ]
    }
   ],
   "source": [
    "class BankAccount:\n",
    "    def __init__(self, owner, balance):     # initialization\n",
    "        self.owner = owner                  # attributes\n",
    "        self.balance = balance\n",
    "\n",
    "    def deposit(self, amount):              # method\n",
    "        self.balance += amount\n",
    "        print(f\"Deposited {amount}. New balance: {self.balance}\")\n",
    "\n",
    "    def __str__(self):                      # special string method\n",
    "        return f\"Account Owner: {self.owner}, Balance: {self.balance}\"\n",
    "\n",
    "# create instance\n",
    "my_account = BankAccount(\"Tim\", 1000)\n",
    "\n",
    "# use methods\n",
    "my_account.deposit(500)\n",
    "\n",
    "# print object\n",
    "print(my_account)\n"
   ]
  },
  {
   "cell_type": "markdown",
   "id": "ed5fcb99",
   "metadata": {},
   "source": [
    "#  Let's break down the above code step by step in the simplest way possible, \n",
    "## 🔵 1. class BankAccount:\n",
    "#### This line defines a class.\n",
    "\n",
    "#### Class: Think of a class as a blueprint or template.\n",
    "#### Just like a house plan is not a house, a class is not an actual account — it's just the design.\n",
    "\n",
    "#### Here, BankAccount is a custom type we’re creating that will represent a bank account.\n",
    "\n",
    "## 🔵 2. def __init__(self, owner, balance):\n",
    "#### This is the initializer method. It's run automatically when you create a new object from the class.\n",
    "\n",
    "#### __init__: This special method is called the constructor or initializer.\n",
    "\n",
    "#### self: It refers to the current object being created. It allows the object to keep track of its own data.\n",
    "\n",
    "#### owner, balance: These are parameters — you pass values for these when creating an object.\n",
    "\n",
    "#### ➡️ So when you create an account, this code sets up who owns the account and how much money it starts with.\n",
    "\n",
    "## 🔵 3. self.owner = owner\n",
    "## 🔵 4. self.balance = balance\n",
    "#### These are attributes — pieces of data stored inside the object.\n",
    "\n",
    "#### self.owner: means \"store the owner's name in the object\"\n",
    "\n",
    "#### self.balance: means \"store the starting balance in the object\"\n",
    "\n",
    "#### These attributes will be remembered by the object and can be used or changed later.\n",
    "\n",
    "## 🔵 5. def deposit(self, amount):\n",
    "#### This is a method — basically a function that belongs to the class.\n",
    "\n",
    "#### self: So it can access the object's data.\n",
    "\n",
    "#### amount: How much money you want to deposit.\n",
    "\n",
    "## 🔵 6. self.balance += amount\n",
    "#### This line adds money to the current balance.\n",
    "\n",
    "#### It takes the existing balance and adds the amount to it.\n",
    "\n",
    "#### Then it updates the object’s balance.\n",
    "\n",
    "## 🔵 7. print(f\"Deposited {amount}. New balance: {self.balance}\")\n",
    "#### This just shows the user what happened after depositing.\n",
    "\n",
    "#### The f\"\" is an f-string, allowing you to insert variables like amount and self.balance directly into the sentence.\n",
    "\n",
    "## 🔵 8. def __str__(self):\n",
    "#### This is a special string method that controls what is shown when you print the object.\n",
    "\n",
    "#### Without this, printing the object would give you something like: <__main__.BankAccount object at 0x...>.\n",
    "\n",
    "#### With this, it gives a nice, readable message about the account.\n",
    "\n",
    "## 🔵 9. return f\"Account Owner: {self.owner}, Balance: {self.balance}\"\n",
    "#### This is the message you see when the object is printed.\n",
    "\n",
    "# Now the Bottom Part — Usage\n",
    "## 🔵 10. my_account = BankAccount(\"Tim\", 1000)\n",
    "#### This creates an object (or instance) of the class.\n",
    "\n",
    "#### Object/Instance: A real, usable version of the blueprint (class).\n",
    "\n",
    "#### \"Tim\" is passed as the owner\n",
    "\n",
    "#### 1000 is passed as the starting balance\n",
    "\n",
    "#### This triggers the __init__() method to set up the account.\n",
    "\n",
    "## 🔵 11. my_account.deposit(500)\n",
    "#### Here we’re calling the deposit method on the object my_account.\n",
    "\n",
    "#### This adds 500 to the account balance.\n",
    "\n",
    "#### self in the method now refers to my_account.\n",
    "\n",
    "## 🔵 12. print(my_account)\n",
    "#### This prints the account’s details.\n",
    "\n",
    "#### It uses the __str__() method automatically.\n",
    "\n"
   ]
  },
  {
   "cell_type": "markdown",
   "id": "892a54e0",
   "metadata": {},
   "source": [
    "# 🧠 Summary Table\n",
    "## Term\tMeaning\n",
    "#### class~\tThe blueprint or definition\n",
    "#### instance~\tA real object created from the class\n",
    "#### attribute~\tData or characteristics (like owner, balance)\n",
    "#### method~\tActions the object can do (like deposit, withdraw)\n",
    "#### self~\tRefers to this specific object inside the class\n",
    "#### __init__~\tSpecial method to initialize object values (called when born)\n",
    "#### __str__~\tSpecial method to define how the object appears when printed"
   ]
  },
  {
   "cell_type": "markdown",
   "id": "77da95cc",
   "metadata": {},
   "source": [
    "# Now,Let's break down the four main pillars of Object-Oriented Programming (OOP) in a simple way, with practical examples:"
   ]
  },
  {
   "cell_type": "markdown",
   "id": "a23077de",
   "metadata": {},
   "source": [
    "# 🛡 1. Encapsulation — \"Protecting and grouping data\"\n",
    "## Definition:\n",
    "#### Encapsulation is the bundling of data (attributes) and methods (functions) that work on the data into a single unit (a class), and restricting access to some parts of the object to protect it from outside interference.\n",
    "\n",
    "## Simple Analogy:\n",
    "#### Think of a bank ATM machine:\n",
    "\n",
    "#### You insert your card and input your PIN (public access).\n",
    "\n",
    "#### But how the machine internally verifies your PIN or deducts the money is hidden (private)."
   ]
  },
  {
   "cell_type": "code",
   "execution_count": 20,
   "id": "f1b53079",
   "metadata": {},
   "outputs": [],
   "source": [
    "#In Code:\n",
    "class BankAccount:\n",
    "    def __init__(self, balance):\n",
    "        self.__balance = balance  # private variable\n",
    "\n",
    "    def deposit(self, amount):\n",
    "        self.__balance += amount\n",
    "\n",
    "    def withdraw(self, amount):\n",
    "        if amount <= self.__balance:\n",
    "            self.__balance -= amount\n",
    "        else:\n",
    "            print(\"Insufficient funds\")\n",
    "\n",
    "    def get_balance(self):\n",
    "        return self.__balance\n",
    "#🔒 The __balance variable is private. You can't access it directly from outside. You must use methods"
   ]
  },
  {
   "cell_type": "markdown",
   "id": "7b6124fd",
   "metadata": {},
   "source": [
    "# 🧬 2. Polymorphism — \"Same name, different behavior\"\n",
    "## Definition:\n",
    "#### Polymorphism allows different classes to define the same method name but with different implementations.\n",
    "\n",
    "## Simple Analogy:\n",
    "#### Imagine a function called make_sound():\n",
    "\n",
    "#### A Dog barks.\n",
    "\n",
    "#### A Cat meows.\n",
    "\n",
    "#### A Cow moos.\n",
    "\n",
    "#### They all have a make_sound() method, but it behaves differently depending on the animal."
   ]
  },
  {
   "cell_type": "code",
   "execution_count": 2,
   "id": "cae40d2d",
   "metadata": {},
   "outputs": [
    {
     "name": "stdout",
     "output_type": "stream",
     "text": [
      "Bark\n",
      "Meow\n",
      "moo\n"
     ]
    }
   ],
   "source": [
    "#In Code:\n",
    "class Dog:\n",
    "    def make_sound(self):\n",
    "        print(\"Bark\")\n",
    "\n",
    "class Cat:\n",
    "    def make_sound(self):\n",
    "        print(\"Meow\")\n",
    "\n",
    "class cow:\n",
    "    def make_sound(self):\n",
    "        print(\"moo\")\n",
    "# Polymorphism in action\n",
    "for animal in [Dog(), Cat(), cow()]:\n",
    "    animal.make_sound()\n",
    "    #👆 The same method (make_sound) works differently depending on the object.\n"
   ]
  },
  {
   "cell_type": "markdown",
   "id": "d749c070",
   "metadata": {},
   "source": [
    "# 👨‍👦 3. Inheritance — \"Child inherits from parent\"\n",
    "## Definition:\n",
    "#### Inheritance allows a class (child) to inherit properties and behaviors from another class (parent), reducing code repetition.\n",
    "\n",
    "## Simple Analogy:\n",
    "#### A SavingsAccount is a type of BankAccount but might have extra features like interest calculation."
   ]
  },
  {
   "cell_type": "code",
   "execution_count": 24,
   "id": "4b545d01",
   "metadata": {},
   "outputs": [],
   "source": [
    "#In Code:\n",
    "class BankAccount:\n",
    "    def __init__(self, balance):\n",
    "        self.balance = balance\n",
    "\n",
    "    def deposit(self, amount):\n",
    "        self.balance += amount\n",
    "\n",
    "class SavingsAccount(BankAccount):  # Inheriting\n",
    "    def add_interest(self):\n",
    "        self.balance *= 1.05  # add 5% interest\n",
    "        #👶 SavingsAccount inherits deposit from BankAccount and adds its own method add_interest.\n"
   ]
  },
  {
   "cell_type": "markdown",
   "id": "0d676f8c",
   "metadata": {},
   "source": [
    "# 🧊 4. Abstraction — \"Hide complex details and show essentials\"\n",
    "## Definition:\n",
    "#### Abstraction means hiding the complex inner workings and only exposing what is necessary to the user.\n",
    "\n",
    "## Simple Analogy:\n",
    "#### When you send money via M-PESA, you only enter the number and amount. You don’t see the backend operations like routing, authentication, logging, etc. That’s abstraction."
   ]
  },
  {
   "cell_type": "code",
   "execution_count": 26,
   "id": "9c2e037f",
   "metadata": {},
   "outputs": [],
   "source": [
    "#In Code:\n",
    "#Use abstract classes with method declarations only.\n",
    "from abc import ABC, abstractmethod\n",
    "\n",
    "class Vehicle(ABC):  # Abstract class\n",
    "    @abstractmethod\n",
    "    def start_engine(self):\n",
    "        pass\n",
    "\n",
    "class Car(Vehicle):\n",
    "    def start_engine(self):\n",
    "        print(\"Car engine started\")\n",
    "\n",
    "class Motorcycle(Vehicle):\n",
    "    def start_engine(self):\n",
    "        print(\"Motorcycle engine started\")\n",
    "        #🧠 The abstract class (Vehicle) defines the structure. The concrete classes (Car, Motorcycle) implement the specifics.\n"
   ]
  },
  {
   "cell_type": "markdown",
   "id": "42a83faa",
   "metadata": {},
   "source": [
    "## 🚀 Summary Table\n",
    "#### Concept  \t     - Purpose\t                                -  Keyword\t     -  Real-life Analogy\n",
    "#### Encapsulation\t - Restrict direct access to internal data\t-  __private\t -  ATM hides inner workings\n",
    "#### Inheritance     - Reuse code from parent classes\t        -  class B(A)\t -  Child inherits from parent\n",
    "#### Polymorphism\t - Same interface, different behaviors\t    -  override\t     -  Dog & Cat both respond to make_sound()\n",
    "#### Abstraction\t - Show only necessary details\t            -  abstract\t     -  Phone hides complex tech behind buttons"
   ]
  },
  {
   "cell_type": "markdown",
   "id": "db834613",
   "metadata": {},
   "source": [
    "# **OOPSKLEARN**\n",
    "\n",
    "# 🧠 WHY OOP in Scikit-Learn?\n",
    "#### Scikit-learn (sklearn) uses object-oriented programming so that everything — models, transformers, pipelines — behaves like a Python object with consistent methods like .fit(), .predict(), and .transform()."
   ]
  },
  {
   "cell_type": "markdown",
   "id": "93c0c76e",
   "metadata": {},
   "source": [
    "## *⚙️ 1. THE CORE: BaseEstimator*\n",
    "##### At the root of most sklearn classes is:"
   ]
  },
  {
   "cell_type": "code",
   "execution_count": 6,
   "id": "86d07fa5",
   "metadata": {},
   "outputs": [],
   "source": [
    "from sklearn.base import BaseEstimator\n"
   ]
  },
  {
   "cell_type": "markdown",
   "id": "90eeae55",
   "metadata": {},
   "source": [
    "##### All models (like LinearRegression) and transformers (like StandardScaler) inherit from BaseEstimator.\n",
    "\n",
    "##### This gives them:\n",
    "\n",
    "##### Consistent behavior\n",
    "\n",
    "##### Easy parameter tuning\n",
    "\n",
    "##### .get_params() and .set_params() methods"
   ]
  },
  {
   "cell_type": "markdown",
   "id": "ac5eb8cf",
   "metadata": {},
   "source": [
    "# *🧱 2. TYPES OF SKLEARN OBJECTS*\n",
    "##### a. Transformers (TransformerMixin)\n",
    "##### These change/transform your data. E.g.:"
   ]
  },
  {
   "cell_type": "code",
   "execution_count": 13,
   "id": "2f65cb64",
   "metadata": {},
   "outputs": [
    {
     "name": "stdout",
     "output_type": "stream",
     "text": [
      "Original Data:\n",
      " [[1 2]\n",
      " [3 4]\n",
      " [5 6]]\n",
      "Scaled Data:\n",
      " [[-1.22474487 -1.22474487]\n",
      " [ 0.          0.        ]\n",
      " [ 1.22474487  1.22474487]]\n"
     ]
    }
   ],
   "source": [
    "from sklearn.preprocessing import StandardScaler\n",
    "import numpy as np\n",
    "\n",
    "# Step 1: Define sample data\n",
    "X = np.array([[1, 2], [3, 4], [5, 6]])\n",
    "Y = 2*X\n",
    "\n",
    "# Step 2: Create a scaler object\n",
    "scaler = StandardScaler()\n",
    "\n",
    "# Step 3: Fit the scaler and transform the data\n",
    "X_scaled = scaler.fit_transform(X)\n",
    "\n",
    "# Step 4: Show the result\n",
    "print(\"Original Data:\\n\", X)\n",
    "print(\"Scaled Data:\\n\", X_scaled)\n",
    "\n",
    "\n",
    "scaler = StandardScaler()\n",
    "X_scaled = scaler.fit_transform(X)\n",
    "\n",
    "#Methods: .fit(), .transform(), .fit_transform()\n"
   ]
  },
  {
   "cell_type": "markdown",
   "id": "8580d693",
   "metadata": {},
   "source": [
    "##### b. Estimators (Classifiers and Regressors)\n",
    "##### These learn from data and make predictions.\n",
    "\n",
    "##### Classifier (predicts categories):"
   ]
  },
  {
   "cell_type": "code",
   "execution_count": 16,
   "id": "b4852331",
   "metadata": {},
   "outputs": [
    {
     "name": "stdout",
     "output_type": "stream",
     "text": [
      "Accuracy: 1.0\n"
     ]
    }
   ],
   "source": [
    "# 1. Import libraries\n",
    "from sklearn.datasets import load_iris\n",
    "from sklearn.model_selection import train_test_split\n",
    "from sklearn.linear_model import LogisticRegression\n",
    "from sklearn.metrics import accuracy_score\n",
    "\n",
    "# 2. Load sample dataset\n",
    "data = load_iris()\n",
    "X = data.data\n",
    "y = data.target\n",
    "\n",
    "# 3. Split data into train and test sets\n",
    "X_train, X_test, y_train, y_test = train_test_split(\n",
    "    X, y, test_size=0.2, random_state=42)\n",
    "\n",
    "# 4. Create a model\n",
    "clf = LogisticRegression(max_iter=200)  # Increase iterations to avoid warning\n",
    "\n",
    "# 5. Train the model\n",
    "clf.fit(X_train, y_train)\n",
    "\n",
    "# 6. Make predictions\n",
    "y_pred = clf.predict(X_test)\n",
    "\n",
    "# 7. Evaluate performance\n",
    "accuracy = accuracy_score(y_test, y_pred)\n",
    "print(\"Accuracy:\", accuracy)\n"
   ]
  },
  {
   "cell_type": "code",
   "execution_count": 17,
   "id": "a3b01a7c",
   "metadata": {},
   "outputs": [],
   "source": [
    "from sklearn.linear_model import LogisticRegression\n",
    "\n",
    "clf = LogisticRegression()\n",
    "clf.fit(X_train, y_train)\n",
    "y_pred = clf.predict(X_test)\n"
   ]
  },
  {
   "cell_type": "markdown",
   "id": "e5ab4d10",
   "metadata": {},
   "source": [
    "##### *Regressor (predicts numbers):*"
   ]
  },
  {
   "cell_type": "code",
   "execution_count": 19,
   "id": "c437b8cd",
   "metadata": {},
   "outputs": [],
   "source": [
    "from sklearn.linear_model import LinearRegression\n",
    "\n",
    "reg = LinearRegression()\n",
    "reg.fit(X_train, y_train)\n",
    "y_pred = reg.predict(X_test)\n",
    "\n",
    "#Common methods: .fit(), .predict(), .score()"
   ]
  },
  {
   "cell_type": "markdown",
   "id": "98b5164d",
   "metadata": {},
   "source": [
    "# *🧩 3. HOW TO BUILD YOUR OWN SKLEARN-LIKE CLASS*\n",
    "##### Let’s make a simple custom transformer:"
   ]
  },
  {
   "cell_type": "code",
   "execution_count": 20,
   "id": "bbe940b8",
   "metadata": {},
   "outputs": [],
   "source": [
    "from sklearn.base import BaseEstimator, TransformerMixin\n",
    "\n",
    "class AddConstantTransformer(BaseEstimator, TransformerMixin):\n",
    "    def __init__(self, constant=1):\n",
    "        self.constant = constant\n",
    "\n",
    "    def fit(self, X, y=None):\n",
    "        return self  # Nothing to learn\n",
    "\n",
    "    def transform(self, X):\n",
    "        return X + self.constant\n"
   ]
  },
  {
   "cell_type": "markdown",
   "id": "7d99e550",
   "metadata": {},
   "source": [
    "#### Usage:"
   ]
  },
  {
   "cell_type": "code",
   "execution_count": 21,
   "id": "5f015068",
   "metadata": {},
   "outputs": [],
   "source": [
    "import numpy as np\n",
    "X = np.array([[1, 2], [3, 4]])\n",
    "transformer = AddConstantTransformer(constant=10)\n",
    "X_new = transformer.fit_transform(X)\n"
   ]
  },
  {
   "cell_type": "markdown",
   "id": "0453f640",
   "metadata": {},
   "source": [
    "# *🔗 4. PIPELINE: CHAINING OBJECTS*\n",
    "##### OOP makes chaining easy:"
   ]
  },
  {
   "cell_type": "code",
   "execution_count": 23,
   "id": "a23c394d",
   "metadata": {},
   "outputs": [
    {
     "data": {
      "text/plain": [
       "array([1, 0, 2, 1, 1, 0, 1, 2, 1, 1, 2, 0, 0, 0, 0, 1, 2, 1, 1, 2, 0, 2,\n",
       "       0, 2, 2, 2, 2, 2, 0, 0])"
      ]
     },
     "execution_count": 23,
     "metadata": {},
     "output_type": "execute_result"
    }
   ],
   "source": [
    "from sklearn.pipeline import Pipeline\n",
    "\n",
    "pipe = Pipeline([\n",
    "    ('scaler', StandardScaler()),\n",
    "    ('model', LogisticRegression())\n",
    "])\n",
    "\n",
    "pipe.fit(X_train, y_train)\n",
    "pipe.predict(X_test)\n",
    "\n",
    "#Each step is an object with .fit() and .transform() or .predict() methods.\n"
   ]
  },
  {
   "cell_type": "markdown",
   "id": "e288155f",
   "metadata": {},
   "source": [
    "## *🧪 HANDS-ON TASK (Practice)*\n",
    "##### Create a custom transformer that multiplies data by a constant, then use it inside a pipeline with a LinearRegression model.\n",
    "\n",
    "##### One block of code for it\n",
    "\n",
    "\n",
    "#### *The code below:*\n",
    "\n",
    "##### *Defines a transformer that multiplies features by a constant.*\n",
    "\n",
    "##### *Uses synthetic regression data (make_regression).*\n",
    "\n",
    "##### *Builds a pipeline: MultiplyByConstant ➜ LinearRegression.*\n",
    "\n",
    "##### *Trains and evaluates the pipeline.*"
   ]
  },
  {
   "cell_type": "code",
   "execution_count": 24,
   "id": "174bced6",
   "metadata": {},
   "outputs": [
    {
     "name": "stdout",
     "output_type": "stream",
     "text": [
      "Mean Squared Error: 104.20222653187022\n"
     ]
    }
   ],
   "source": [
    "from sklearn.base import BaseEstimator, TransformerMixin\n",
    "from sklearn.linear_model import LinearRegression\n",
    "from sklearn.pipeline import Pipeline\n",
    "from sklearn.datasets import make_regression\n",
    "from sklearn.model_selection import train_test_split\n",
    "from sklearn.metrics import mean_squared_error\n",
    "import numpy as np\n",
    "\n",
    "# 1. Create a custom transformer\n",
    "class MultiplyByConstant(BaseEstimator, TransformerMixin):\n",
    "    def __init__(self, factor=2):\n",
    "        self.factor = factor\n",
    "\n",
    "    def fit(self, X, y=None):\n",
    "        return self  # Nothing to learn\n",
    "\n",
    "    def transform(self, X):\n",
    "        return X * self.factor\n",
    "\n",
    "# 2. Create dummy regression data\n",
    "X, y = make_regression(n_samples=100, n_features=1, noise=10, random_state=42)\n",
    "\n",
    "# 3. Split data\n",
    "X_train, X_test, y_train, y_test = train_test_split(X, y, test_size=0.2, random_state=42)\n",
    "\n",
    "# 4. Create a pipeline\n",
    "pipeline = Pipeline([\n",
    "    ('multiplier', MultiplyByConstant(factor=3)),\n",
    "    ('model', LinearRegression())\n",
    "])\n",
    "\n",
    "# 5. Train the pipeline\n",
    "pipeline.fit(X_train, y_train)\n",
    "\n",
    "# 6. Predict and evaluate\n",
    "y_pred = pipeline.predict(X_test)\n",
    "mse = mean_squared_error(y_test, y_pred)\n",
    "print(\"Mean Squared Error:\", mse)\n"
   ]
  },
  {
   "cell_type": "markdown",
   "id": "50f7bf69",
   "metadata": {},
   "source": [
    " ### *Let’s extend the previous code by adding a plot to visualize the predictions of the pipeline. This will help you see how well the model fits the data, especially since we're using synthetic data.*\n",
    "\n",
    "##### *Here’s the complete block with plotting:*"
   ]
  },
  {
   "cell_type": "code",
   "execution_count": 25,
   "id": "bbdd4f47",
   "metadata": {},
   "outputs": [
    {
     "name": "stdout",
     "output_type": "stream",
     "text": [
      "Mean Squared Error: 104.20222653187022\n"
     ]
    },
    {
     "data": {
      "image/png": "[encoded data removed]",
      "text/plain": [
       "<Figure size 640x480 with 1 Axes>"
      ]
     },
     "metadata": {},
     "output_type": "display_data"
    }
   ],
   "source": [
    "import matplotlib.pyplot as plt\n",
    "from sklearn.base import BaseEstimator, TransformerMixin\n",
    "from sklearn.linear_model import LinearRegression\n",
    "from sklearn.pipeline import Pipeline\n",
    "from sklearn.datasets import make_regression\n",
    "from sklearn.model_selection import train_test_split\n",
    "from sklearn.metrics import mean_squared_error\n",
    "\n",
    "# 1. Custom transformer\n",
    "class MultiplyByConstant(BaseEstimator, TransformerMixin):\n",
    "    def __init__(self, factor=2):\n",
    "        self.factor = factor\n",
    "\n",
    "    def fit(self, X, y=None):\n",
    "        return self\n",
    "\n",
    "    def transform(self, X):\n",
    "        return X * self.factor\n",
    "\n",
    "# 2. Generate synthetic data\n",
    "X, y = make_regression(n_samples=100, n_features=1, noise=10, random_state=42)\n",
    "\n",
    "# 3. Train-test split\n",
    "X_train, X_test, y_train, y_test = train_test_split(X, y, test_size=0.2, random_state=42)\n",
    "\n",
    "# 4. Create pipeline\n",
    "pipeline = Pipeline([\n",
    "    ('multiplier', MultiplyByConstant(factor=3)),\n",
    "    ('model', LinearRegression())\n",
    "])\n",
    "\n",
    "# 5. Train the pipeline\n",
    "pipeline.fit(X_train, y_train)\n",
    "\n",
    "# 6. Predict\n",
    "y_pred = pipeline.predict(X_test)\n",
    "\n",
    "# 7. Evaluate\n",
    "mse = mean_squared_error(y_test, y_pred)\n",
    "print(\"Mean Squared Error:\", mse)\n",
    "\n",
    "# 8. Plotting\n",
    "plt.scatter(X_test, y_test, color='blue', label='Actual')\n",
    "plt.scatter(X_test, y_pred, color='red', label='Predicted', marker='x')\n",
    "plt.title(\"Actual vs Predicted (After Transformation)\")\n",
    "plt.xlabel(\"Original Feature\")\n",
    "plt.ylabel(\"Target\")\n",
    "plt.legend()\n",
    "plt.grid(True)\n",
    "plt.show()\n"
   ]
  },
  {
   "cell_type": "markdown",
   "id": "7560be50",
   "metadata": {},
   "source": [
    "## *You now have a strong foundational grasp, but there's still more to explore if you want to become truly skilled and job-ready with Scikit-Learn.*\n",
    "\n",
    "### **✅ What You've Mastered So Far*\n",
    "### *You now understand:*\n",
    "\n",
    "##### ✔️ Core OOP structure in Scikit-learn (BaseEstimator, TransformerMixin)\n",
    "\n",
    "##### ✔️ How .fit(), .transform(), .fit_transform() work\n",
    "\n",
    "##### ✔️ How to build a custom transformer\n",
    "\n",
    "##### ✔️ How to use pipelines\n",
    "\n",
    "##### ✔️ How to work with classifiers and regressors\n",
    "\n",
    "##### ✔️ How to visualize predictions and evaluate models\n",
    "\n",
    "##### **That's about 70% of what most data analysts and junior data scientists need.**\n",
    "\n",
    "### **📈 What You Can Learn Next to Go Pro**\n",
    "#### *Here’s what takes you from basic to intermediate/advanced:*\n",
    "\n",
    "### *🧱 1. Advanced Pipelines*\n",
    "##### FeatureUnion or ColumnTransformer: Apply different transforms to different columns\n",
    "\n",
    "##### make_pipeline, make_column_transformer shortcuts\n",
    "\n",
    "### *🧪 2. Model Selection & Tuning*\n",
    "##### GridSearchCV, RandomizedSearchCV\n",
    "\n",
    "##### cross_val_score, cross_validate\n",
    "\n",
    "##### StratifiedKFold and custom CV strategies\n",
    "\n",
    "### *🧠 3. Feature Engineering Pipelines*\n",
    "##### Handling missing values with SimpleImputer\n",
    "\n",
    "##### Encoding categorical variables with OneHotEncoder, OrdinalEncoder\n",
    "\n",
    "##### Using FunctionTransformer for custom feature logic\n",
    "\n",
    "### *🔁 4. Model Evaluation and Metrics*\n",
    "##### Regression: r2_score, mean_absolute_error, etc.\n",
    "\n",
    "##### Classification: confusion_matrix, precision, recall, f1_score, ROC curves\n",
    "\n",
    "##### Multi-class/multi-label metrics\n",
    "\n",
    "### *🧪 5. Model Stacking / Ensembling*\n",
    "##### VotingClassifier, StackingClassifier, BaggingClassifier, etc.\n",
    "\n",
    "### *📚 6. Exporting & Saving Models*\n",
    "##### joblib or pickle to save/load pipelines\n",
    "\n",
    "##### sklearn models in production-ready APIs (e.g., with FastAPI)"
   ]
  },
  {
   "cell_type": "markdown",
   "id": "b97aa9b3",
   "metadata": {},
   "source": []
  }
 ],
 "metadata": {
  "kernelspec": {
   "display_name": "Python 3",
   "language": "python",
   "name": "python3"
  },
  "language_info": {
   "codemirror_mode": {
    "name": "ipython",
    "version": 3
   },
   "file_extension": ".py",
   "mimetype": "text/x-python",
   "name": "python",
   "nbconvert_exporter": "python",
   "pygments_lexer": "ipython3",
   "version": "3.13.3"
  }
 },
 "nbformat": 4,
 "nbformat_minor": 5
}
