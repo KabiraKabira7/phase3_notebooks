{
 "cells": [
  {
   "cell_type": "code",
   "execution_count": 19,
   "id": "9026e190",
   "metadata": {},
   "outputs": [],
   "source": [
    "# encapsulation\n",
    "class BankAccount:\n",
    "    def __init__(self, owner, balance = 0,account_type = \"Savings\"):\n",
    "        self.owner = owner #public attribute\n",
    "        self.__balance = balance #private attribute\n",
    "        self._account_type = account_type #protected attribute\n",
    "\n",
    "    def deposit(self, amount):\n",
    "        if amount > 0:\n",
    "            self.__balance += amount\n",
    "\n",
    "    def withdraw(self,amount):\n",
    "        if 0 < amount <= self.__balance:\n",
    "            self.__balance -= amount\n",
    "            return True\n",
    "        return False\n",
    "    \n",
    "    def get_balance(self):\n",
    "        return self.__balance\n",
    "    \n",
    "    def get_account_type(self):\n",
    "        return self._account_type"
   ]
  },
  {
   "cell_type": "code",
   "execution_count": 20,
   "id": "72fac707",
   "metadata": {},
   "outputs": [],
   "source": [
    "#abstraction\n",
    "from abc import ABC, abstractmethod\n",
    "class Transaction(ABC):\n",
    "    def __init__(self,account):\n",
    "        self.account = account\n",
    "\n",
    "    @abstractmethod\n",
    "    def execute(self):\n",
    "        pass\n",
    "\n",
    "    def summary(self):\n",
    "        print(\"Transaction was executed\")"
   ]
  },
  {
   "cell_type": "code",
   "execution_count": 21,
   "id": "a5598539",
   "metadata": {},
   "outputs": [],
   "source": [
    "#inheritance\n",
    "class SavingsAccount(BankAccount):\n",
    "    def show_account_type(self):\n",
    "        print(f\"{self.owner}'s account type: {self._account_type}\")"
   ]
  },
  {
   "cell_type": "code",
   "execution_count": 22,
   "id": "b374de8a",
   "metadata": {},
   "outputs": [],
   "source": [
    "#polymorphism\n",
    "class Deposit(Transaction):\n",
    "    def __init__(self,account,amount):\n",
    "        super().__init__(account)\n",
    "        self.amount = amount\n",
    "\n",
    "    def execute(self):\n",
    "        self.account.deposit(self.amount)\n",
    "\n",
    "class Withdraw(Transaction):\n",
    "    def __init__(self,account,amount):\n",
    "        super().__init__(account)\n",
    "        self.amount = amount\n",
    "\n",
    "    def execute(self):\n",
    "        if self.account.withdraw(self.amount):\n",
    "            print(f\"Withdrew {self.amount} from {self.account.owner}'s account\")\n",
    "        else:\n",
    "            print(f\"Failed to withdraw {self.amount} from {self.account.owner}'s account\")"
   ]
  },
  {
   "cell_type": "code",
   "execution_count": 23,
   "id": "110951ad",
   "metadata": {},
   "outputs": [
    {
     "data": {
      "text/plain": [
       "<__main__.SavingsAccount at 0x7eb5ab78aa30>"
      ]
     },
     "execution_count": 23,
     "metadata": {},
     "output_type": "execute_result"
    }
   ],
   "source": [
    "account = SavingsAccount('Jacob', 10000, 'Premium Savings')\n",
    "account"
   ]
  },
  {
   "cell_type": "code",
   "execution_count": 24,
   "id": "25adf2b6",
   "metadata": {},
   "outputs": [
    {
     "name": "stdout",
     "output_type": "stream",
     "text": [
      "Balance: 14500\n"
     ]
    },
    {
     "data": {
      "text/plain": [
       "'Premium Savings'"
      ]
     },
     "execution_count": 24,
     "metadata": {},
     "output_type": "execute_result"
    }
   ],
   "source": [
    "account.deposit(5000)\n",
    "account.withdraw(500)\n",
    "print(\"Balance:\", account.get_balance()) #used a public method to get a private attribute\n",
    "account.get_account_type()"
   ]
  },
  {
   "cell_type": "code",
   "execution_count": 25,
   "id": "ed12ad04",
   "metadata": {},
   "outputs": [
    {
     "name": "stdout",
     "output_type": "stream",
     "text": [
      "Withdrew 500 from Jacob's account\n",
      "Final Balance: 16000\n"
     ]
    }
   ],
   "source": [
    "transactions = [\n",
    "    Deposit(account, 2000),\n",
    "    Withdraw(account,500)\n",
    "]\n",
    "for transaction in transactions:\n",
    "    transaction.execute()\n",
    "\n",
    "print('Final Balance:', account.get_balance())"
   ]
  },
  {
   "cell_type": "code",
   "execution_count": null,
   "id": "ac88f2f9",
   "metadata": {},
   "outputs": [],
   "source": []
  }
 ],
 "metadata": {
  "kernelspec": {
   "display_name": "learn-env",
   "language": "python",
   "name": "python3"
  },
  "language_info": {
   "codemirror_mode": {
    "name": "ipython",
    "version": 3
   },
   "file_extension": ".py",
   "mimetype": "text/x-python",
   "name": "python",
   "nbconvert_exporter": "python",
   "pygments_lexer": "ipython3",
   "version": "3.8.5"
  }
 },
 "nbformat": 4,
 "nbformat_minor": 5
}
