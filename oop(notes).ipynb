{
 "cells": [
  {
   "cell_type": "markdown",
   "id": "d235570c",
   "metadata": {},
   "source": [
    "# **Four pillars of OOP**\n",
    "- Abstraction\n",
    "- Inheritance\n",
    "- Polymorphism\n",
    "- Encapsulation"
   ]
  },
  {
   "cell_type": "markdown",
   "id": "6ac61bfd",
   "metadata": {},
   "source": [
    "## **Abstraction(Simplify reality)**\n",
    "##### To only show the necessary details to the users of an object e.g - When a user is turning a monitor on/off\n",
    "\n",
    "### **Types of Abstraction**\n",
    "- ##### Partial Abstraction: Abstract class contains only abstract methods (like interfaces).\n",
    "- ##### Full Abstraction: Abstract class contains both abstract and concrete methods.\n"
   ]
  },
  {
   "cell_type": "markdown",
   "id": "1a36f40c",
   "metadata": {},
   "source": [
    "## **Inheritance(Code Reusability)**\n",
    "##### Allows a class (child class) to acquire properties and methods of another class (parent class). It supports hierarchical classification and promotes code reuse.\n",
    "\n",
    "### **Types of Inheritance**\n",
    "- ##### Single Inheritance: A child class inherits from a single parent class.\n",
    "- ##### Multiple Inheritance: A child class inherits from more than one parent class.\n",
    "- ##### Multilevel Inheritance: A child class inherits from a parent class, which in turn inherits from another class.\n",
    "- ##### Hierarchical Inheritance: Multiple child classes inherit from a single parent class.\n",
    "- ##### Hybrid Inheritance: A combination of two or more types of inheritance."
   ]
  },
  {
   "cell_type": "markdown",
   "id": "a6dc6c1c",
   "metadata": {},
   "source": [
    "## **Polymorphism(Many forms)**\n",
    "##### Allows methods to have the same name but behave differently based on the object's context. It can be achieved through method overriding or overloading\n",
    "### **Types of Polymorphism**\n",
    "- ##### Compile-Time Polymorphism: This type of polymorphism is determined during the compilation of the program. It allows methods or operators with the same name to behave differently based on their input parameters or usage. It is commonly referred to as method or operator overloading.\n",
    "- ##### Run-Time Polymorphism: This type of polymorphism is determined during the execution of the program. It occurs when a subclass provides a specific implementation for a method already defined in its parent class, commonly known as method overriding."
   ]
  },
  {
   "cell_type": "markdown",
   "id": "8fdbe260",
   "metadata": {},
   "source": [
    "## **Encapsulation(Restricted Access)**\n",
    "##### The bundling of data (attributes) and methods (functions) within a class, restricting access to some components to control interactions.\n",
    "### **Types of Encapsulation**\n",
    "- ##### Public Members: Accessible from anywhere.\n",
    "- ##### Protected Members: Accessible within the class and its subclasses.\n",
    "- ##### Private Members: Accessible only within the class."
   ]
  },
  {
   "cell_type": "markdown",
   "id": "ebaa0aa4",
   "metadata": {},
   "source": [
    "##"
   ]
  }
 ],
 "metadata": {
  "kernelspec": {
   "display_name": "learn-env",
   "language": "python",
   "name": "python3"
  },
  "language_info": {
   "codemirror_mode": {
    "name": "ipython",
    "version": 3
   },
   "file_extension": ".py",
   "mimetype": "text/x-python",
   "name": "python",
   "nbconvert_exporter": "python",
   "pygments_lexer": "ipython3",
   "version": "3.8.5"
  }
 },
 "nbformat": 4,
 "nbformat_minor": 5
}
